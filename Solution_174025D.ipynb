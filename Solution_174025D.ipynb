{
 "cells": [
  {
   "cell_type": "markdown",
   "metadata": {},
   "source": [
    "1. Problem definition.\n",
    "\n",
    "The problem that we are going to implement is, \n",
    "\n",
    "Use case: Is there a relationship between humidity and temperature? What about between humidity and apparent temperature? Can you predict the apparent temperature given the humidity?\n",
    "\n",
    "Before implement a machine learning model, there is an a complete idea about the problem domain that you are going to implement the solution.\n",
    "\n",
    "Here discuss about the humidity, temperature, and apparent temperature. So we need to the clear knowladge about these terms.\n",
    "\n",
    "In simple, Humidity is a measure of the amount of water vapor in the air.\n",
    "\n",
    "Apparent Temperature: The perceived temperature in degrees Fahrenheit derived from either a combination of temperature and wind (Wind Chill) or temperature and humidity (Heat Index) for the indicated hour.\n",
    "source(https://meteor.geol.iastate.edu/~ckarsten/bufkit/apparent_temperature.html)"
   ]
  },
  {
   "cell_type": "markdown",
   "metadata": {},
   "source": [
    "2. Collect data\n",
    "\n",
    "The collecting data to the relevent problem domain is important because your solution is based on the quality and the quentity of the data. The data directly impact to the your machine learning model and its accuracy.\n",
    "\n",
    "The dataset to the our problem is taken from the kegalle. \n",
    "https://www.kaggle.com/budincsevity/szeged-weather?select=weatherHistory.csv\n"
   ]
  },
  {
   "cell_type": "markdown",
   "metadata": {},
   "source": [
    "3. Data preprocessing\n",
    "\n",
    "Data preprocessing is a data mining technique which is used to transform the raw data in a useful and efficient format. Under the data preprocessing Filling missing values, removing duplicates, dealing with outliers, Data Transformations, Splitting the dataset, feature scaling are mainly done.\n",
    "As the first step of the coding, it is needed to import the Data. Here imports the CSV file into Python using Pandas.\n"
   ]
  },
  {
   "cell_type": "code",
   "execution_count": 1,
   "metadata": {},
   "outputs": [],
   "source": [
    "# import the needed packages.\n",
    "import pandas as pd\n",
    "import numpy as np"
   ]
  },
  {
   "cell_type": "code",
   "execution_count": 2,
   "metadata": {},
   "outputs": [],
   "source": [
    "weather_history_df = pd.read_csv('weatherHistory.csv')"
   ]
  },
  {
   "cell_type": "code",
   "execution_count": 3,
   "metadata": {},
   "outputs": [
    {
     "data": {
      "text/html": [
       "<div>\n",
       "<style scoped>\n",
       "    .dataframe tbody tr th:only-of-type {\n",
       "        vertical-align: middle;\n",
       "    }\n",
       "\n",
       "    .dataframe tbody tr th {\n",
       "        vertical-align: top;\n",
       "    }\n",
       "\n",
       "    .dataframe thead th {\n",
       "        text-align: right;\n",
       "    }\n",
       "</style>\n",
       "<table border=\"1\" class=\"dataframe\">\n",
       "  <thead>\n",
       "    <tr style=\"text-align: right;\">\n",
       "      <th></th>\n",
       "      <th>Formatted Date</th>\n",
       "      <th>Summary</th>\n",
       "      <th>Precip Type</th>\n",
       "      <th>Temperature (C)</th>\n",
       "      <th>Apparent Temperature (C)</th>\n",
       "      <th>Humidity</th>\n",
       "      <th>Wind Speed (km/h)</th>\n",
       "      <th>Wind Bearing (degrees)</th>\n",
       "      <th>Visibility (km)</th>\n",
       "      <th>Loud Cover</th>\n",
       "      <th>Pressure (millibars)</th>\n",
       "      <th>Daily Summary</th>\n",
       "    </tr>\n",
       "  </thead>\n",
       "  <tbody>\n",
       "    <tr>\n",
       "      <th>0</th>\n",
       "      <td>2006-04-01 00:00:00.000 +0200</td>\n",
       "      <td>Partly Cloudy</td>\n",
       "      <td>rain</td>\n",
       "      <td>9.472222</td>\n",
       "      <td>7.388889</td>\n",
       "      <td>0.89</td>\n",
       "      <td>14.1197</td>\n",
       "      <td>251.0</td>\n",
       "      <td>15.8263</td>\n",
       "      <td>0.0</td>\n",
       "      <td>1015.13</td>\n",
       "      <td>Partly cloudy throughout the day.</td>\n",
       "    </tr>\n",
       "    <tr>\n",
       "      <th>1</th>\n",
       "      <td>2006-04-01 01:00:00.000 +0200</td>\n",
       "      <td>Partly Cloudy</td>\n",
       "      <td>rain</td>\n",
       "      <td>9.355556</td>\n",
       "      <td>7.227778</td>\n",
       "      <td>0.86</td>\n",
       "      <td>14.2646</td>\n",
       "      <td>259.0</td>\n",
       "      <td>15.8263</td>\n",
       "      <td>0.0</td>\n",
       "      <td>1015.63</td>\n",
       "      <td>Partly cloudy throughout the day.</td>\n",
       "    </tr>\n",
       "    <tr>\n",
       "      <th>2</th>\n",
       "      <td>2006-04-01 02:00:00.000 +0200</td>\n",
       "      <td>Mostly Cloudy</td>\n",
       "      <td>rain</td>\n",
       "      <td>9.377778</td>\n",
       "      <td>9.377778</td>\n",
       "      <td>0.89</td>\n",
       "      <td>3.9284</td>\n",
       "      <td>204.0</td>\n",
       "      <td>14.9569</td>\n",
       "      <td>0.0</td>\n",
       "      <td>1015.94</td>\n",
       "      <td>Partly cloudy throughout the day.</td>\n",
       "    </tr>\n",
       "    <tr>\n",
       "      <th>3</th>\n",
       "      <td>2006-04-01 03:00:00.000 +0200</td>\n",
       "      <td>Partly Cloudy</td>\n",
       "      <td>rain</td>\n",
       "      <td>8.288889</td>\n",
       "      <td>5.944444</td>\n",
       "      <td>0.83</td>\n",
       "      <td>14.1036</td>\n",
       "      <td>269.0</td>\n",
       "      <td>15.8263</td>\n",
       "      <td>0.0</td>\n",
       "      <td>1016.41</td>\n",
       "      <td>Partly cloudy throughout the day.</td>\n",
       "    </tr>\n",
       "    <tr>\n",
       "      <th>4</th>\n",
       "      <td>2006-04-01 04:00:00.000 +0200</td>\n",
       "      <td>Mostly Cloudy</td>\n",
       "      <td>rain</td>\n",
       "      <td>8.755556</td>\n",
       "      <td>6.977778</td>\n",
       "      <td>0.83</td>\n",
       "      <td>11.0446</td>\n",
       "      <td>259.0</td>\n",
       "      <td>15.8263</td>\n",
       "      <td>0.0</td>\n",
       "      <td>1016.51</td>\n",
       "      <td>Partly cloudy throughout the day.</td>\n",
       "    </tr>\n",
       "  </tbody>\n",
       "</table>\n",
       "</div>"
      ],
      "text/plain": [
       "                  Formatted Date        Summary Precip Type  Temperature (C)  \\\n",
       "0  2006-04-01 00:00:00.000 +0200  Partly Cloudy        rain         9.472222   \n",
       "1  2006-04-01 01:00:00.000 +0200  Partly Cloudy        rain         9.355556   \n",
       "2  2006-04-01 02:00:00.000 +0200  Mostly Cloudy        rain         9.377778   \n",
       "3  2006-04-01 03:00:00.000 +0200  Partly Cloudy        rain         8.288889   \n",
       "4  2006-04-01 04:00:00.000 +0200  Mostly Cloudy        rain         8.755556   \n",
       "\n",
       "   Apparent Temperature (C)  Humidity  Wind Speed (km/h)  \\\n",
       "0                  7.388889      0.89            14.1197   \n",
       "1                  7.227778      0.86            14.2646   \n",
       "2                  9.377778      0.89             3.9284   \n",
       "3                  5.944444      0.83            14.1036   \n",
       "4                  6.977778      0.83            11.0446   \n",
       "\n",
       "   Wind Bearing (degrees)  Visibility (km)  Loud Cover  Pressure (millibars)  \\\n",
       "0                   251.0          15.8263         0.0               1015.13   \n",
       "1                   259.0          15.8263         0.0               1015.63   \n",
       "2                   204.0          14.9569         0.0               1015.94   \n",
       "3                   269.0          15.8263         0.0               1016.41   \n",
       "4                   259.0          15.8263         0.0               1016.51   \n",
       "\n",
       "                       Daily Summary  \n",
       "0  Partly cloudy throughout the day.  \n",
       "1  Partly cloudy throughout the day.  \n",
       "2  Partly cloudy throughout the day.  \n",
       "3  Partly cloudy throughout the day.  \n",
       "4  Partly cloudy throughout the day.  "
      ]
     },
     "execution_count": 3,
     "metadata": {},
     "output_type": "execute_result"
    }
   ],
   "source": [
    "# print first 5 rows of the dataset\n",
    "weather_history_df.head()"
   ]
  },
  {
   "cell_type": "code",
   "execution_count": 4,
   "metadata": {},
   "outputs": [
    {
     "data": {
      "text/html": [
       "<div>\n",
       "<style scoped>\n",
       "    .dataframe tbody tr th:only-of-type {\n",
       "        vertical-align: middle;\n",
       "    }\n",
       "\n",
       "    .dataframe tbody tr th {\n",
       "        vertical-align: top;\n",
       "    }\n",
       "\n",
       "    .dataframe thead th {\n",
       "        text-align: right;\n",
       "    }\n",
       "</style>\n",
       "<table border=\"1\" class=\"dataframe\">\n",
       "  <thead>\n",
       "    <tr style=\"text-align: right;\">\n",
       "      <th></th>\n",
       "      <th>Temperature (C)</th>\n",
       "      <th>Apparent Temperature (C)</th>\n",
       "      <th>Humidity</th>\n",
       "      <th>Wind Speed (km/h)</th>\n",
       "      <th>Wind Bearing (degrees)</th>\n",
       "      <th>Visibility (km)</th>\n",
       "      <th>Loud Cover</th>\n",
       "      <th>Pressure (millibars)</th>\n",
       "    </tr>\n",
       "  </thead>\n",
       "  <tbody>\n",
       "    <tr>\n",
       "      <th>count</th>\n",
       "      <td>96453.000000</td>\n",
       "      <td>96453.000000</td>\n",
       "      <td>96453.000000</td>\n",
       "      <td>96453.000000</td>\n",
       "      <td>96453.000000</td>\n",
       "      <td>96453.000000</td>\n",
       "      <td>96453.0</td>\n",
       "      <td>96453.000000</td>\n",
       "    </tr>\n",
       "    <tr>\n",
       "      <th>mean</th>\n",
       "      <td>11.932678</td>\n",
       "      <td>10.855029</td>\n",
       "      <td>0.734899</td>\n",
       "      <td>10.810640</td>\n",
       "      <td>187.509232</td>\n",
       "      <td>10.347325</td>\n",
       "      <td>0.0</td>\n",
       "      <td>1003.235956</td>\n",
       "    </tr>\n",
       "    <tr>\n",
       "      <th>std</th>\n",
       "      <td>9.551546</td>\n",
       "      <td>10.696847</td>\n",
       "      <td>0.195473</td>\n",
       "      <td>6.913571</td>\n",
       "      <td>107.383428</td>\n",
       "      <td>4.192123</td>\n",
       "      <td>0.0</td>\n",
       "      <td>116.969906</td>\n",
       "    </tr>\n",
       "    <tr>\n",
       "      <th>min</th>\n",
       "      <td>-21.822222</td>\n",
       "      <td>-27.716667</td>\n",
       "      <td>0.000000</td>\n",
       "      <td>0.000000</td>\n",
       "      <td>0.000000</td>\n",
       "      <td>0.000000</td>\n",
       "      <td>0.0</td>\n",
       "      <td>0.000000</td>\n",
       "    </tr>\n",
       "    <tr>\n",
       "      <th>25%</th>\n",
       "      <td>4.688889</td>\n",
       "      <td>2.311111</td>\n",
       "      <td>0.600000</td>\n",
       "      <td>5.828200</td>\n",
       "      <td>116.000000</td>\n",
       "      <td>8.339800</td>\n",
       "      <td>0.0</td>\n",
       "      <td>1011.900000</td>\n",
       "    </tr>\n",
       "    <tr>\n",
       "      <th>50%</th>\n",
       "      <td>12.000000</td>\n",
       "      <td>12.000000</td>\n",
       "      <td>0.780000</td>\n",
       "      <td>9.965900</td>\n",
       "      <td>180.000000</td>\n",
       "      <td>10.046400</td>\n",
       "      <td>0.0</td>\n",
       "      <td>1016.450000</td>\n",
       "    </tr>\n",
       "    <tr>\n",
       "      <th>75%</th>\n",
       "      <td>18.838889</td>\n",
       "      <td>18.838889</td>\n",
       "      <td>0.890000</td>\n",
       "      <td>14.135800</td>\n",
       "      <td>290.000000</td>\n",
       "      <td>14.812000</td>\n",
       "      <td>0.0</td>\n",
       "      <td>1021.090000</td>\n",
       "    </tr>\n",
       "    <tr>\n",
       "      <th>max</th>\n",
       "      <td>39.905556</td>\n",
       "      <td>39.344444</td>\n",
       "      <td>1.000000</td>\n",
       "      <td>63.852600</td>\n",
       "      <td>359.000000</td>\n",
       "      <td>16.100000</td>\n",
       "      <td>0.0</td>\n",
       "      <td>1046.380000</td>\n",
       "    </tr>\n",
       "  </tbody>\n",
       "</table>\n",
       "</div>"
      ],
      "text/plain": [
       "       Temperature (C)  Apparent Temperature (C)      Humidity  \\\n",
       "count     96453.000000              96453.000000  96453.000000   \n",
       "mean         11.932678                 10.855029      0.734899   \n",
       "std           9.551546                 10.696847      0.195473   \n",
       "min         -21.822222                -27.716667      0.000000   \n",
       "25%           4.688889                  2.311111      0.600000   \n",
       "50%          12.000000                 12.000000      0.780000   \n",
       "75%          18.838889                 18.838889      0.890000   \n",
       "max          39.905556                 39.344444      1.000000   \n",
       "\n",
       "       Wind Speed (km/h)  Wind Bearing (degrees)  Visibility (km)  Loud Cover  \\\n",
       "count       96453.000000            96453.000000     96453.000000     96453.0   \n",
       "mean           10.810640              187.509232        10.347325         0.0   \n",
       "std             6.913571              107.383428         4.192123         0.0   \n",
       "min             0.000000                0.000000         0.000000         0.0   \n",
       "25%             5.828200              116.000000         8.339800         0.0   \n",
       "50%             9.965900              180.000000        10.046400         0.0   \n",
       "75%            14.135800              290.000000        14.812000         0.0   \n",
       "max            63.852600              359.000000        16.100000         0.0   \n",
       "\n",
       "       Pressure (millibars)  \n",
       "count          96453.000000  \n",
       "mean            1003.235956  \n",
       "std              116.969906  \n",
       "min                0.000000  \n",
       "25%             1011.900000  \n",
       "50%             1016.450000  \n",
       "75%             1021.090000  \n",
       "max             1046.380000  "
      ]
     },
     "execution_count": 4,
     "metadata": {},
     "output_type": "execute_result"
    }
   ],
   "source": [
    "# describe the dataset\n",
    "weather_history_df.describe()"
   ]
  },
  {
   "cell_type": "markdown",
   "metadata": {},
   "source": [
    "4. Find the missing values\n",
    "\n",
    "the weather_history_df's Precip Type has 517 missing values and it 0.05% as presentage. so drop them."
   ]
  },
  {
   "cell_type": "code",
   "execution_count": 5,
   "metadata": {
    "scrolled": true
   },
   "outputs": [
    {
     "data": {
      "text/plain": [
       "Formatted Date                0\n",
       "Summary                       0\n",
       "Precip Type                 517\n",
       "Temperature (C)               0\n",
       "Apparent Temperature (C)      0\n",
       "Humidity                      0\n",
       "Wind Speed (km/h)             0\n",
       "Wind Bearing (degrees)        0\n",
       "Visibility (km)               0\n",
       "Loud Cover                    0\n",
       "Pressure (millibars)          0\n",
       "Daily Summary                 0\n",
       "dtype: int64"
      ]
     },
     "execution_count": 5,
     "metadata": {},
     "output_type": "execute_result"
    }
   ],
   "source": [
    "df = weather_history_df.copy()\n",
    "df.isnull().sum()"
   ]
  },
  {
   "cell_type": "markdown",
   "metadata": {},
   "source": [
    "* Precip Type has 517 null values "
   ]
  },
  {
   "cell_type": "code",
   "execution_count": 6,
   "metadata": {},
   "outputs": [
    {
     "name": "stdout",
     "output_type": "stream",
     "text": [
      "Precip Type null values presentage =  0.5360123583506993\n",
      "rain    85224\n",
      "snow    10712\n",
      "Name: Precip Type, dtype: int64\n",
      "rain value presentage  88.35806040247581\n"
     ]
    }
   ],
   "source": [
    "# missing values presentage 'Precip Type'\n",
    "\n",
    "print('Precip Type null values presentage = ', df['Precip Type'].isnull().sum()/len(df.index)*100)\n",
    "print(df['Precip Type'].value_counts())\n",
    "print('rain value presentage ', (df['Precip Type'] == 'rain').sum()/len(df.index)*100)"
   ]
  },
  {
   "cell_type": "markdown",
   "metadata": {},
   "source": [
    "* only 0.5% null values in the Precip Type column and lets remove them "
   ]
  },
  {
   "cell_type": "code",
   "execution_count": 7,
   "metadata": {},
   "outputs": [
    {
     "name": "stdout",
     "output_type": "stream",
     "text": [
      "Formatted Date              False\n",
      "Summary                     False\n",
      "Precip Type                 False\n",
      "Temperature (C)             False\n",
      "Apparent Temperature (C)    False\n",
      "Humidity                    False\n",
      "Wind Speed (km/h)           False\n",
      "Wind Bearing (degrees)      False\n",
      "Visibility (km)             False\n",
      "Loud Cover                  False\n",
      "Pressure (millibars)        False\n",
      "Daily Summary               False\n",
      "dtype: bool\n"
     ]
    }
   ],
   "source": [
    "# drop missing values\n",
    "\n",
    "df = df.dropna() #drop all nan\n",
    "# reset the df after dropping rows\n",
    "df = df.reset_index(drop=True)\n",
    "print(df.isnull().any())"
   ]
  },
  {
   "cell_type": "markdown",
   "metadata": {},
   "source": [
    "* now no any null values in the dataset"
   ]
  },
  {
   "cell_type": "markdown",
   "metadata": {},
   "source": [
    "5.\n",
    "\n",
    "The coloumn 'Formatted Date' all are unique 95912 out if 95936 (99%). According to the problem domain the date not much effect to the problem domain. \n",
    "The coloumn 'Loud Cover' has only one unique value out of the all rows.\n",
    "The 'Daily Summary' is an categorical feature and it has 214 uniques values.Also its top one is 'Mostly cloudy throughout the day' with freq 20020. So it not effective to handle 214 uniques values under 95936 size data set.\n",
    "So the coloumns 'Formatted Date', 'Loud Cover' and 'Daily Summary' can be dropped."
   ]
  },
  {
   "cell_type": "code",
   "execution_count": 8,
   "metadata": {},
   "outputs": [
    {
     "name": "stdout",
     "output_type": "stream",
     "text": [
      "Formatted Date              95912\n",
      "Summary                        27\n",
      "Precip Type                     2\n",
      "Temperature (C)              7573\n",
      "Apparent Temperature (C)     8984\n",
      "Humidity                       90\n",
      "Wind Speed (km/h)            2484\n",
      "Wind Bearing (degrees)        360\n",
      "Visibility (km)               949\n",
      "Loud Cover                      1\n",
      "Pressure (millibars)         4971\n",
      "Daily Summary                 214\n",
      "dtype: int64\n",
      "Formatted Date              0.999750\n",
      "Summary                     0.000281\n",
      "Precip Type                 0.000021\n",
      "Temperature (C)             0.078938\n",
      "Apparent Temperature (C)    0.093646\n",
      "Humidity                    0.000938\n",
      "Wind Speed (km/h)           0.025892\n",
      "Wind Bearing (degrees)      0.003753\n",
      "Visibility (km)             0.009892\n",
      "Loud Cover                  0.000010\n",
      "Pressure (millibars)        0.051816\n",
      "Daily Summary               0.002231\n",
      "dtype: float64\n"
     ]
    }
   ],
   "source": [
    "# uniques of the columns\n",
    "\n",
    "print(df.nunique())\n",
    "print(df.nunique()/df.count())"
   ]
  },
  {
   "cell_type": "code",
   "execution_count": 9,
   "metadata": {},
   "outputs": [
    {
     "data": {
      "text/plain": [
       "count                                 95936\n",
       "unique                                  214\n",
       "top       Mostly cloudy throughout the day.\n",
       "freq                                  20020\n",
       "Name: Daily Summary, dtype: object"
      ]
     },
     "execution_count": 9,
     "metadata": {},
     "output_type": "execute_result"
    }
   ],
   "source": [
    "df['Daily Summary'].describe()"
   ]
  },
  {
   "cell_type": "code",
   "execution_count": 10,
   "metadata": {},
   "outputs": [
    {
     "data": {
      "text/plain": [
       "count             95936\n",
       "unique               27\n",
       "top       Partly Cloudy\n",
       "freq              31635\n",
       "Name: Summary, dtype: object"
      ]
     },
     "execution_count": 10,
     "metadata": {},
     "output_type": "execute_result"
    }
   ],
   "source": [
    "df['Summary'].describe()"
   ]
  },
  {
   "cell_type": "code",
   "execution_count": 11,
   "metadata": {},
   "outputs": [
    {
     "data": {
      "text/html": [
       "<div>\n",
       "<style scoped>\n",
       "    .dataframe tbody tr th:only-of-type {\n",
       "        vertical-align: middle;\n",
       "    }\n",
       "\n",
       "    .dataframe tbody tr th {\n",
       "        vertical-align: top;\n",
       "    }\n",
       "\n",
       "    .dataframe thead th {\n",
       "        text-align: right;\n",
       "    }\n",
       "</style>\n",
       "<table border=\"1\" class=\"dataframe\">\n",
       "  <thead>\n",
       "    <tr style=\"text-align: right;\">\n",
       "      <th></th>\n",
       "      <th>Precip Type</th>\n",
       "      <th>Temperature (C)</th>\n",
       "      <th>Apparent Temperature (C)</th>\n",
       "      <th>Humidity</th>\n",
       "      <th>Wind Speed (km/h)</th>\n",
       "      <th>Wind Bearing (degrees)</th>\n",
       "      <th>Visibility (km)</th>\n",
       "      <th>Pressure (millibars)</th>\n",
       "    </tr>\n",
       "  </thead>\n",
       "  <tbody>\n",
       "    <tr>\n",
       "      <th>0</th>\n",
       "      <td>rain</td>\n",
       "      <td>9.472222</td>\n",
       "      <td>7.388889</td>\n",
       "      <td>0.89</td>\n",
       "      <td>14.1197</td>\n",
       "      <td>251.0</td>\n",
       "      <td>15.8263</td>\n",
       "      <td>1015.13</td>\n",
       "    </tr>\n",
       "    <tr>\n",
       "      <th>1</th>\n",
       "      <td>rain</td>\n",
       "      <td>9.355556</td>\n",
       "      <td>7.227778</td>\n",
       "      <td>0.86</td>\n",
       "      <td>14.2646</td>\n",
       "      <td>259.0</td>\n",
       "      <td>15.8263</td>\n",
       "      <td>1015.63</td>\n",
       "    </tr>\n",
       "    <tr>\n",
       "      <th>2</th>\n",
       "      <td>rain</td>\n",
       "      <td>9.377778</td>\n",
       "      <td>9.377778</td>\n",
       "      <td>0.89</td>\n",
       "      <td>3.9284</td>\n",
       "      <td>204.0</td>\n",
       "      <td>14.9569</td>\n",
       "      <td>1015.94</td>\n",
       "    </tr>\n",
       "    <tr>\n",
       "      <th>3</th>\n",
       "      <td>rain</td>\n",
       "      <td>8.288889</td>\n",
       "      <td>5.944444</td>\n",
       "      <td>0.83</td>\n",
       "      <td>14.1036</td>\n",
       "      <td>269.0</td>\n",
       "      <td>15.8263</td>\n",
       "      <td>1016.41</td>\n",
       "    </tr>\n",
       "    <tr>\n",
       "      <th>4</th>\n",
       "      <td>rain</td>\n",
       "      <td>8.755556</td>\n",
       "      <td>6.977778</td>\n",
       "      <td>0.83</td>\n",
       "      <td>11.0446</td>\n",
       "      <td>259.0</td>\n",
       "      <td>15.8263</td>\n",
       "      <td>1016.51</td>\n",
       "    </tr>\n",
       "  </tbody>\n",
       "</table>\n",
       "</div>"
      ],
      "text/plain": [
       "  Precip Type  Temperature (C)  Apparent Temperature (C)  Humidity  \\\n",
       "0        rain         9.472222                  7.388889      0.89   \n",
       "1        rain         9.355556                  7.227778      0.86   \n",
       "2        rain         9.377778                  9.377778      0.89   \n",
       "3        rain         8.288889                  5.944444      0.83   \n",
       "4        rain         8.755556                  6.977778      0.83   \n",
       "\n",
       "   Wind Speed (km/h)  Wind Bearing (degrees)  Visibility (km)  \\\n",
       "0            14.1197                   251.0          15.8263   \n",
       "1            14.2646                   259.0          15.8263   \n",
       "2             3.9284                   204.0          14.9569   \n",
       "3            14.1036                   269.0          15.8263   \n",
       "4            11.0446                   259.0          15.8263   \n",
       "\n",
       "   Pressure (millibars)  \n",
       "0               1015.13  \n",
       "1               1015.63  \n",
       "2               1015.94  \n",
       "3               1016.41  \n",
       "4               1016.51  "
      ]
     },
     "execution_count": 11,
     "metadata": {},
     "output_type": "execute_result"
    }
   ],
   "source": [
    "#drop Daily Formatted Date, Summary, Loud Cover\n",
    "\n",
    "columns = ['Formatted Date', 'Daily Summary', 'Loud Cover', 'Summary'] #,\n",
    "df = df.drop(columns, axis = 1)\n",
    "# reset indices after dropping rows\n",
    "df=df.reset_index(drop=True)\n",
    "df.head()"
   ]
  },
  {
   "cell_type": "markdown",
   "metadata": {},
   "source": [
    "* drop the columns 'Formatted Date', 'Daily Summary' and 'Loud Cover\""
   ]
  },
  {
   "cell_type": "markdown",
   "metadata": {},
   "source": [
    "6. Remove duplicates"
   ]
  },
  {
   "cell_type": "code",
   "execution_count": 12,
   "metadata": {},
   "outputs": [
    {
     "name": "stdout",
     "output_type": "stream",
     "text": [
      "before are there any duplicates :  True\n",
      "before are there any duplicates :  False\n"
     ]
    }
   ],
   "source": [
    "# drop the duplicates\n",
    "dups = df.duplicated()\n",
    "print('before are there any duplicates : ', dups.any())\n",
    "df.drop_duplicates(inplace=True)\n",
    "\n",
    "# reset indices after dropping rows\n",
    "df=df.reset_index(drop=True)\n",
    "\n",
    "print('before are there any duplicates : ', df.duplicated().any())"
   ]
  },
  {
   "cell_type": "markdown",
   "metadata": {},
   "source": [
    "7. Handling the outliers\n",
    "\n",
    "The 'Humidity', 'Wind speed (km/h)' and 'Pressure (millibars)'  has the outliers\n",
    "\n",
    "The IQR is used to handle the outliers of the 'Humidity', because the outlier lower_limit is far away from 0.1649\n",
    "\n",
    "How ever the IQR not effective to use, because 'Pressure (millibars)' lower limit 998.1500000000001 and upper limit 1034.79.How ever we can clearly see the outlier lies far away less to 200  \n",
    "\n",
    "The 'Temperature (C)', 'Wind Bearing (degrees)', 'Pressure (millibars)' there is no such outliers.\n"
   ]
  },
  {
   "cell_type": "code",
   "execution_count": 13,
   "metadata": {},
   "outputs": [
    {
     "name": "stdout",
     "output_type": "stream",
     "text": [
      "Previous Shape With Outlier:  (95863, 8)\n"
     ]
    },
    {
     "data": {
      "image/png": "[encoded data removed]",
      "text/plain": [
       "<Figure size 432x288 with 1 Axes>"
      ]
     },
     "metadata": {
      "needs_background": "light"
     },
     "output_type": "display_data"
    },
    {
     "name": "stdout",
     "output_type": "stream",
     "text": [
      "Previous Shape With Outlier:  (95863, 8)\n"
     ]
    },
    {
     "data": {
      "image/png": "[encoded data removed]",
      "text/plain": [
       "<Figure size 432x288 with 1 Axes>"
      ]
     },
     "metadata": {
      "needs_background": "light"
     },
     "output_type": "display_data"
    },
    {
     "name": "stdout",
     "output_type": "stream",
     "text": [
      "Previous Shape With Outlier:  (95863, 8)\n"
     ]
    },
    {
     "data": {
      "image/png": "[encoded data removed]",
      "text/plain": [
       "<Figure size 432x288 with 1 Axes>"
      ]
     },
     "metadata": {
      "needs_background": "light"
     },
     "output_type": "display_data"
    },
    {
     "name": "stdout",
     "output_type": "stream",
     "text": [
      "Previous Shape With Outlier:  (95863, 8)\n"
     ]
    },
    {
     "data": {
      "image/png": "[encoded data removed]",
      "text/plain": [
       "<Figure size 432x288 with 1 Axes>"
      ]
     },
     "metadata": {
      "needs_background": "light"
     },
     "output_type": "display_data"
    },
    {
     "name": "stdout",
     "output_type": "stream",
     "text": [
      "Previous Shape With Outlier:  (95863, 8)\n"
     ]
    },
    {
     "data": {
      "image/png": "[encoded data removed]",
      "text/plain": [
       "<Figure size 432x288 with 1 Axes>"
      ]
     },
     "metadata": {
      "needs_background": "light"
     },
     "output_type": "display_data"
    },
    {
     "name": "stdout",
     "output_type": "stream",
     "text": [
      "Previous Shape With Outlier:  (95863, 8)\n"
     ]
    },
    {
     "data": {
      "image/png": "[encoded data removed]",
      "text/plain": [
       "<Figure size 432x288 with 1 Axes>"
      ]
     },
     "metadata": {
      "needs_background": "light"
     },
     "output_type": "display_data"
    },
    {
     "name": "stdout",
     "output_type": "stream",
     "text": [
      "Previous Shape With Outlier:  (95863, 8)\n"
     ]
    },
    {
     "data": {
      "image/png": "[encoded data removed]",
      "text/plain": [
       "<Figure size 432x288 with 1 Axes>"
      ]
     },
     "metadata": {
      "needs_background": "light"
     },
     "output_type": "display_data"
    }
   ],
   "source": [
    "#HANDLING OUTLIER\n",
    "\n",
    "import matplotlib.pyplot as plt\n",
    "import warnings\n",
    "import seaborn as sns\n",
    "warnings.filterwarnings(\"ignore\")\n",
    "\n",
    "cols = ['Temperature (C)', 'Apparent Temperature (C)', 'Humidity', 'Wind Speed (km/h)', \n",
    "        'Wind Bearing (degrees)', 'Visibility (km)', 'Pressure (millibars)']    \n",
    "\n",
    "for col in cols:\n",
    "    fig, axes = plt.subplots(1,1)\n",
    "    plt.tight_layout(0.2)\n",
    "    print(\"Previous Shape With Outlier: \",df.shape)\n",
    "    sns.boxplot(df[col],orient='v')\n",
    "    plt.show()"
   ]
  },
  {
   "cell_type": "markdown",
   "metadata": {},
   "source": [
    "* The 'Humidity', 'Wind speed (km/h)' and 'Pressure (millibars)' has the outliers. 'Temperature', 'Apparent Temperature' are skewed. there are no outliers in 'wind bearing' and 'visibility'"
   ]
  },
  {
   "cell_type": "code",
   "execution_count": 14,
   "metadata": {},
   "outputs": [
    {
     "name": "stdout",
     "output_type": "stream",
     "text": [
      "Apparent Temperature (C)\n",
      "lower limit -22.558333333333344\n",
      "upper limit 43.686111111111124\n",
      "------------------------\n",
      "Humidity\n",
      "lower limit 0.16499999999999992\n",
      "upper limit 1.3250000000000002\n",
      "------------------------\n",
      "Wind Speed (km/h)\n",
      "lower limit -6.673449999999998\n",
      "upper limit 26.62135\n",
      "------------------------\n",
      "Pressure (millibars)\n",
      "lower limit 998.1500000000001\n",
      "upper limit 1034.79\n",
      "------------------------\n"
     ]
    },
    {
     "data": {
      "text/plain": [
       "<Figure size 432x288 with 0 Axes>"
      ]
     },
     "metadata": {},
     "output_type": "display_data"
    }
   ],
   "source": [
    "import matplotlib.pyplot as plt\n",
    "import warnings\n",
    "import seaborn as sns\n",
    "warnings.filterwarnings(\"ignore\")\n",
    "\n",
    "df2 = df\n",
    "\n",
    "cols = ['Apparent Temperature (C)', 'Humidity', 'Wind Speed (km/h)', 'Pressure (millibars)']    \n",
    "\n",
    "for col in cols:\n",
    "    print(col)\n",
    "    plt.tight_layout(0.2)\n",
    "    Q1 = df2[col].quantile(0.25)\n",
    "    Q3 = df2[col].quantile(0.75)\n",
    "    IQR = Q3-Q1\n",
    "    lower_limit = Q1 - 1.5*IQR\n",
    "    upper_limit = Q3 + 1.5*IQR\n",
    "    print('lower limit',lower_limit)\n",
    "    print('upper limit',upper_limit)\n",
    "    print(\"------------------------\")"
   ]
  },
  {
   "cell_type": "markdown",
   "metadata": {},
   "source": [
    "* 'The outliers of the Humidity' are far away datapoints from upper_limit and the lower_limit to the IQR. So here the outliers are replaced by the suitable limits. (upper_limit/lower_limit)"
   ]
  },
  {
   "cell_type": "code",
   "execution_count": 15,
   "metadata": {},
   "outputs": [
    {
     "name": "stdout",
     "output_type": "stream",
     "text": [
      "Previous Shape With Outlier:  (95863, 8)\n",
      "0.6 0.89\n",
      "0.29000000000000004\n",
      "0.16499999999999992 1.3250000000000002\n",
      "Shape After Removing Outliers: (95863, 8)\n"
     ]
    },
    {
     "data": {
      "image/png": "[encoded data removed]",
      "text/plain": [
       "<Figure size 432x288 with 2 Axes>"
      ]
     },
     "metadata": {
      "needs_background": "light"
     },
     "output_type": "display_data"
    }
   ],
   "source": [
    "import matplotlib.pyplot as plt\n",
    "import warnings\n",
    "import seaborn as sns\n",
    "warnings.filterwarnings(\"ignore\")\n",
    "\n",
    "df2 = df\n",
    "\n",
    "########### HANDLING OUTLIER ######\n",
    "#def handleOutlier(col):\n",
    "cols = ['Humidity']    \n",
    "\n",
    "for col in cols:\n",
    "\n",
    "    fig, axes = plt.subplots(1,2)\n",
    "    plt.tight_layout(0.2)\n",
    "    print(\"Previous Shape With Outlier: \",df2.shape)\n",
    "    sns.boxplot(df2[col],orient='v',ax=axes[0])\n",
    "    axes[0].title.set_text(\"Before\")\n",
    "    \n",
    "    Q1 = df2[col].quantile(0.25)\n",
    "    Q3 = df2[col].quantile(0.75)\n",
    "    print(Q1,Q3)\n",
    "    IQR = Q3-Q1\n",
    "    print(IQR)\n",
    "\n",
    "    lower_limit = Q1 - 1.5*IQR\n",
    "    upper_limit = Q3 + 1.5*IQR\n",
    "    print(lower_limit,upper_limit)\n",
    "\n",
    "    df2[col] = np.where(df2[col]>upper_limit,upper_limit,df2[col])\n",
    "    df2[col] = np.where(df2[col]<lower_limit,lower_limit,df2[col])\n",
    "    print(\"Shape After Removing Outliers:\", df2.shape)\n",
    "    sns.boxplot(df2[col],orient='v',ax=axes[1])\n",
    "    axes[1].title.set_text(\"After\")\n",
    "    df[col] = df2[col]\n",
    "    plt.show()"
   ]
  },
  {
   "cell_type": "code",
   "execution_count": 16,
   "metadata": {},
   "outputs": [
    {
     "name": "stdout",
     "output_type": "stream",
     "text": [
      "Before Shape: (95863, 8)\n",
      "After Shape: (94579, 8)\n"
     ]
    },
    {
     "data": {
      "image/png": "[encoded data removed]",
      "text/plain": [
       "<Figure size 432x288 with 2 Axes>"
      ]
     },
     "metadata": {
      "needs_background": "light"
     },
     "output_type": "display_data"
    }
   ],
   "source": [
    "# remove outlier of Pressure (millibars)\n",
    "\n",
    "fig, axes = plt.subplots(1,2)\n",
    "plt.tight_layout(0.2)\n",
    "\n",
    "df2 = df\n",
    "\n",
    "col='Pressure (millibars)'\n",
    "\n",
    "print(\"Before Shape:\",df2.shape)\n",
    "axes[0].title.set_text(\"Before\")\n",
    "sns.boxplot(df2[col],orient='v',ax=axes[0])\n",
    "\n",
    "# Removing ressure (millibars) bellow 800 \n",
    "df2 = df2[ (df2[col]>800)]\n",
    "print(\"After Shape:\",df2.shape)\n",
    "\n",
    "axes[1].title.set_text(\"After\")\n",
    "sns.boxplot(df2[col],orient='v',ax=axes[1])\n",
    "df=df2;\n",
    "plt.show()\n",
    "\n",
    "# reset indices after dropping rows\n",
    "df=df.reset_index(drop=True)"
   ]
  },
  {
   "cell_type": "markdown",
   "metadata": {},
   "source": [
    "* 'Pressure (millibars)' outliers are the lower values to the 200. that rows are dropped. "
   ]
  },
  {
   "cell_type": "markdown",
   "metadata": {},
   "source": [
    "8. Data encoding\n",
    "\n",
    "Numerical variables and categorical variables are in the dataset. So, categorical variables cannot be handled without encoding. Following code shows 'Precip Type' is encoded label encoding. Here simply used label encoding because of only 2 values that need to represent by numerical values. (rain as 0 and snow as 1)\n"
   ]
  },
  {
   "cell_type": "code",
   "execution_count": 17,
   "metadata": {
    "scrolled": false
   },
   "outputs": [
    {
     "data": {
      "text/html": [
       "<div>\n",
       "<style scoped>\n",
       "    .dataframe tbody tr th:only-of-type {\n",
       "        vertical-align: middle;\n",
       "    }\n",
       "\n",
       "    .dataframe tbody tr th {\n",
       "        vertical-align: top;\n",
       "    }\n",
       "\n",
       "    .dataframe thead th {\n",
       "        text-align: right;\n",
       "    }\n",
       "</style>\n",
       "<table border=\"1\" class=\"dataframe\">\n",
       "  <thead>\n",
       "    <tr style=\"text-align: right;\">\n",
       "      <th></th>\n",
       "      <th>Precip Type</th>\n",
       "      <th>Temperature (C)</th>\n",
       "      <th>Apparent Temperature (C)</th>\n",
       "      <th>Humidity</th>\n",
       "      <th>Wind Speed (km/h)</th>\n",
       "      <th>Wind Bearing (degrees)</th>\n",
       "      <th>Visibility (km)</th>\n",
       "      <th>Pressure (millibars)</th>\n",
       "    </tr>\n",
       "  </thead>\n",
       "  <tbody>\n",
       "    <tr>\n",
       "      <th>0</th>\n",
       "      <td>0</td>\n",
       "      <td>9.472222</td>\n",
       "      <td>7.388889</td>\n",
       "      <td>0.89</td>\n",
       "      <td>14.1197</td>\n",
       "      <td>251.0</td>\n",
       "      <td>15.8263</td>\n",
       "      <td>1015.13</td>\n",
       "    </tr>\n",
       "    <tr>\n",
       "      <th>1</th>\n",
       "      <td>0</td>\n",
       "      <td>9.355556</td>\n",
       "      <td>7.227778</td>\n",
       "      <td>0.86</td>\n",
       "      <td>14.2646</td>\n",
       "      <td>259.0</td>\n",
       "      <td>15.8263</td>\n",
       "      <td>1015.63</td>\n",
       "    </tr>\n",
       "    <tr>\n",
       "      <th>2</th>\n",
       "      <td>0</td>\n",
       "      <td>9.377778</td>\n",
       "      <td>9.377778</td>\n",
       "      <td>0.89</td>\n",
       "      <td>3.9284</td>\n",
       "      <td>204.0</td>\n",
       "      <td>14.9569</td>\n",
       "      <td>1015.94</td>\n",
       "    </tr>\n",
       "    <tr>\n",
       "      <th>3</th>\n",
       "      <td>0</td>\n",
       "      <td>8.288889</td>\n",
       "      <td>5.944444</td>\n",
       "      <td>0.83</td>\n",
       "      <td>14.1036</td>\n",
       "      <td>269.0</td>\n",
       "      <td>15.8263</td>\n",
       "      <td>1016.41</td>\n",
       "    </tr>\n",
       "    <tr>\n",
       "      <th>4</th>\n",
       "      <td>0</td>\n",
       "      <td>8.755556</td>\n",
       "      <td>6.977778</td>\n",
       "      <td>0.83</td>\n",
       "      <td>11.0446</td>\n",
       "      <td>259.0</td>\n",
       "      <td>15.8263</td>\n",
       "      <td>1016.51</td>\n",
       "    </tr>\n",
       "  </tbody>\n",
       "</table>\n",
       "</div>"
      ],
      "text/plain": [
       "   Precip Type  Temperature (C)  Apparent Temperature (C)  Humidity  \\\n",
       "0            0         9.472222                  7.388889      0.89   \n",
       "1            0         9.355556                  7.227778      0.86   \n",
       "2            0         9.377778                  9.377778      0.89   \n",
       "3            0         8.288889                  5.944444      0.83   \n",
       "4            0         8.755556                  6.977778      0.83   \n",
       "\n",
       "   Wind Speed (km/h)  Wind Bearing (degrees)  Visibility (km)  \\\n",
       "0            14.1197                   251.0          15.8263   \n",
       "1            14.2646                   259.0          15.8263   \n",
       "2             3.9284                   204.0          14.9569   \n",
       "3            14.1036                   269.0          15.8263   \n",
       "4            11.0446                   259.0          15.8263   \n",
       "\n",
       "   Pressure (millibars)  \n",
       "0               1015.13  \n",
       "1               1015.63  \n",
       "2               1015.94  \n",
       "3               1016.41  \n",
       "4               1016.51  "
      ]
     },
     "execution_count": 17,
     "metadata": {},
     "output_type": "execute_result"
    }
   ],
   "source": [
    "# category encoding\n",
    "# converting type of col to 'category'\n",
    "df['Precip Type'] = df['Precip Type'].astype('category').cat.codes\n",
    "# df['Summary'] = df['Summary'].astype('category').cat.codes\n",
    "df.head()"
   ]
  },
  {
   "cell_type": "markdown",
   "metadata": {},
   "source": [
    "9. Splitting the dataset\n",
    "\n",
    "In here dataset is divided in to 2 parts as training dataset and testing dataset. Here I use 80 presents as training and 20 presents for testing.\n",
    "Also, the dataset also divided as independent variables and target dataset because our aim to predict the Apparent Temperature. So, 'Apparent Temperature (C)' is the target dataset and rest of features take as independent variables. Splitting the dataset is done before data transformation to avoid data Leakage.\n"
   ]
  },
  {
   "cell_type": "code",
   "execution_count": 18,
   "metadata": {},
   "outputs": [],
   "source": [
    "# set apparent temperature as target\n",
    "columns_value = df.columns\n",
    "index = np.argwhere(columns_value == 'Apparent Temperature (C)')\n",
    "columns_value_new = np.delete(columns_value, index)\n",
    "\n",
    "\n",
    "data = pd.DataFrame(df, columns=columns_value_new)\n",
    "\n",
    "# target as Y\n",
    "selected_columns = ['Apparent Temperature (C)']\n",
    "y_true = df[selected_columns].copy()\n",
    "\n",
    "# X as indipendent \n",
    "X = data"
   ]
  },
  {
   "cell_type": "code",
   "execution_count": 19,
   "metadata": {},
   "outputs": [
    {
     "data": {
      "text/html": [
       "<div>\n",
       "<style scoped>\n",
       "    .dataframe tbody tr th:only-of-type {\n",
       "        vertical-align: middle;\n",
       "    }\n",
       "\n",
       "    .dataframe tbody tr th {\n",
       "        vertical-align: top;\n",
       "    }\n",
       "\n",
       "    .dataframe thead th {\n",
       "        text-align: right;\n",
       "    }\n",
       "</style>\n",
       "<table border=\"1\" class=\"dataframe\">\n",
       "  <thead>\n",
       "    <tr style=\"text-align: right;\">\n",
       "      <th></th>\n",
       "      <th>Precip Type</th>\n",
       "      <th>Temperature (C)</th>\n",
       "      <th>Humidity</th>\n",
       "      <th>Wind Speed (km/h)</th>\n",
       "      <th>Wind Bearing (degrees)</th>\n",
       "      <th>Visibility (km)</th>\n",
       "      <th>Pressure (millibars)</th>\n",
       "    </tr>\n",
       "  </thead>\n",
       "  <tbody>\n",
       "    <tr>\n",
       "      <th>0</th>\n",
       "      <td>0</td>\n",
       "      <td>9.472222</td>\n",
       "      <td>0.89</td>\n",
       "      <td>14.1197</td>\n",
       "      <td>251.0</td>\n",
       "      <td>15.8263</td>\n",
       "      <td>1015.13</td>\n",
       "    </tr>\n",
       "    <tr>\n",
       "      <th>1</th>\n",
       "      <td>0</td>\n",
       "      <td>9.355556</td>\n",
       "      <td>0.86</td>\n",
       "      <td>14.2646</td>\n",
       "      <td>259.0</td>\n",
       "      <td>15.8263</td>\n",
       "      <td>1015.63</td>\n",
       "    </tr>\n",
       "    <tr>\n",
       "      <th>2</th>\n",
       "      <td>0</td>\n",
       "      <td>9.377778</td>\n",
       "      <td>0.89</td>\n",
       "      <td>3.9284</td>\n",
       "      <td>204.0</td>\n",
       "      <td>14.9569</td>\n",
       "      <td>1015.94</td>\n",
       "    </tr>\n",
       "    <tr>\n",
       "      <th>3</th>\n",
       "      <td>0</td>\n",
       "      <td>8.288889</td>\n",
       "      <td>0.83</td>\n",
       "      <td>14.1036</td>\n",
       "      <td>269.0</td>\n",
       "      <td>15.8263</td>\n",
       "      <td>1016.41</td>\n",
       "    </tr>\n",
       "    <tr>\n",
       "      <th>4</th>\n",
       "      <td>0</td>\n",
       "      <td>8.755556</td>\n",
       "      <td>0.83</td>\n",
       "      <td>11.0446</td>\n",
       "      <td>259.0</td>\n",
       "      <td>15.8263</td>\n",
       "      <td>1016.51</td>\n",
       "    </tr>\n",
       "  </tbody>\n",
       "</table>\n",
       "</div>"
      ],
      "text/plain": [
       "   Precip Type  Temperature (C)  Humidity  Wind Speed (km/h)  \\\n",
       "0            0         9.472222      0.89            14.1197   \n",
       "1            0         9.355556      0.86            14.2646   \n",
       "2            0         9.377778      0.89             3.9284   \n",
       "3            0         8.288889      0.83            14.1036   \n",
       "4            0         8.755556      0.83            11.0446   \n",
       "\n",
       "   Wind Bearing (degrees)  Visibility (km)  Pressure (millibars)  \n",
       "0                   251.0          15.8263               1015.13  \n",
       "1                   259.0          15.8263               1015.63  \n",
       "2                   204.0          14.9569               1015.94  \n",
       "3                   269.0          15.8263               1016.41  \n",
       "4                   259.0          15.8263               1016.51  "
      ]
     },
     "execution_count": 19,
     "metadata": {},
     "output_type": "execute_result"
    }
   ],
   "source": [
    "X.head()"
   ]
  },
  {
   "cell_type": "code",
   "execution_count": 20,
   "metadata": {},
   "outputs": [
    {
     "data": {
      "text/html": [
       "<div>\n",
       "<style scoped>\n",
       "    .dataframe tbody tr th:only-of-type {\n",
       "        vertical-align: middle;\n",
       "    }\n",
       "\n",
       "    .dataframe tbody tr th {\n",
       "        vertical-align: top;\n",
       "    }\n",
       "\n",
       "    .dataframe thead th {\n",
       "        text-align: right;\n",
       "    }\n",
       "</style>\n",
       "<table border=\"1\" class=\"dataframe\">\n",
       "  <thead>\n",
       "    <tr style=\"text-align: right;\">\n",
       "      <th></th>\n",
       "      <th>Apparent Temperature (C)</th>\n",
       "    </tr>\n",
       "  </thead>\n",
       "  <tbody>\n",
       "    <tr>\n",
       "      <th>0</th>\n",
       "      <td>7.388889</td>\n",
       "    </tr>\n",
       "    <tr>\n",
       "      <th>1</th>\n",
       "      <td>7.227778</td>\n",
       "    </tr>\n",
       "    <tr>\n",
       "      <th>2</th>\n",
       "      <td>9.377778</td>\n",
       "    </tr>\n",
       "    <tr>\n",
       "      <th>3</th>\n",
       "      <td>5.944444</td>\n",
       "    </tr>\n",
       "    <tr>\n",
       "      <th>4</th>\n",
       "      <td>6.977778</td>\n",
       "    </tr>\n",
       "  </tbody>\n",
       "</table>\n",
       "</div>"
      ],
      "text/plain": [
       "   Apparent Temperature (C)\n",
       "0                  7.388889\n",
       "1                  7.227778\n",
       "2                  9.377778\n",
       "3                  5.944444\n",
       "4                  6.977778"
      ]
     },
     "execution_count": 20,
     "metadata": {},
     "output_type": "execute_result"
    }
   ],
   "source": [
    "y_true.head()"
   ]
  },
  {
   "cell_type": "code",
   "execution_count": 21,
   "metadata": {},
   "outputs": [
    {
     "name": "stdout",
     "output_type": "stream",
     "text": [
      "(75663, 7) (75663, 1)\n",
      "(18916, 7) (18916, 1)\n"
     ]
    }
   ],
   "source": [
    "from sklearn.model_selection import train_test_split\n",
    "\n",
    "# create training and testing vars\n",
    "X_train, X_test, y_train, y_test = train_test_split(X, y_true, test_size=0.2, random_state=42)\n",
    "print(X_train.shape, y_train.shape)\n",
    "print(X_test.shape, y_test.shape)"
   ]
  },
  {
   "cell_type": "code",
   "execution_count": 22,
   "metadata": {},
   "outputs": [],
   "source": [
    "# reset the df after dropping rows\n",
    "\n",
    "X_train=X_train.reset_index(drop=True)\n",
    "X_test=X_test.reset_index(drop=True)\n",
    "y_train=y_train.reset_index(drop=True)\n",
    "y_test=y_test.reset_index(drop=True)\n"
   ]
  },
  {
   "cell_type": "code",
   "execution_count": 23,
   "metadata": {},
   "outputs": [
    {
     "data": {
      "text/html": [
       "<div>\n",
       "<style scoped>\n",
       "    .dataframe tbody tr th:only-of-type {\n",
       "        vertical-align: middle;\n",
       "    }\n",
       "\n",
       "    .dataframe tbody tr th {\n",
       "        vertical-align: top;\n",
       "    }\n",
       "\n",
       "    .dataframe thead th {\n",
       "        text-align: right;\n",
       "    }\n",
       "</style>\n",
       "<table border=\"1\" class=\"dataframe\">\n",
       "  <thead>\n",
       "    <tr style=\"text-align: right;\">\n",
       "      <th></th>\n",
       "      <th>Precip Type</th>\n",
       "      <th>Temperature (C)</th>\n",
       "      <th>Humidity</th>\n",
       "      <th>Wind Speed (km/h)</th>\n",
       "      <th>Wind Bearing (degrees)</th>\n",
       "      <th>Visibility (km)</th>\n",
       "      <th>Pressure (millibars)</th>\n",
       "    </tr>\n",
       "  </thead>\n",
       "  <tbody>\n",
       "    <tr>\n",
       "      <th>0</th>\n",
       "      <td>1</td>\n",
       "      <td>-4.983333</td>\n",
       "      <td>0.84</td>\n",
       "      <td>5.5062</td>\n",
       "      <td>120.0</td>\n",
       "      <td>3.8318</td>\n",
       "      <td>1019.49</td>\n",
       "    </tr>\n",
       "    <tr>\n",
       "      <th>1</th>\n",
       "      <td>0</td>\n",
       "      <td>23.111111</td>\n",
       "      <td>0.33</td>\n",
       "      <td>14.8281</td>\n",
       "      <td>145.0</td>\n",
       "      <td>10.3523</td>\n",
       "      <td>1018.68</td>\n",
       "    </tr>\n",
       "    <tr>\n",
       "      <th>2</th>\n",
       "      <td>0</td>\n",
       "      <td>11.105556</td>\n",
       "      <td>0.67</td>\n",
       "      <td>26.0659</td>\n",
       "      <td>158.0</td>\n",
       "      <td>9.9820</td>\n",
       "      <td>1013.84</td>\n",
       "    </tr>\n",
       "    <tr>\n",
       "      <th>3</th>\n",
       "      <td>0</td>\n",
       "      <td>16.033333</td>\n",
       "      <td>0.77</td>\n",
       "      <td>5.9731</td>\n",
       "      <td>121.0</td>\n",
       "      <td>15.1823</td>\n",
       "      <td>1015.03</td>\n",
       "    </tr>\n",
       "    <tr>\n",
       "      <th>4</th>\n",
       "      <td>0</td>\n",
       "      <td>8.400000</td>\n",
       "      <td>0.75</td>\n",
       "      <td>11.7530</td>\n",
       "      <td>317.0</td>\n",
       "      <td>9.9820</td>\n",
       "      <td>1017.65</td>\n",
       "    </tr>\n",
       "  </tbody>\n",
       "</table>\n",
       "</div>"
      ],
      "text/plain": [
       "   Precip Type  Temperature (C)  Humidity  Wind Speed (km/h)  \\\n",
       "0            1        -4.983333      0.84             5.5062   \n",
       "1            0        23.111111      0.33            14.8281   \n",
       "2            0        11.105556      0.67            26.0659   \n",
       "3            0        16.033333      0.77             5.9731   \n",
       "4            0         8.400000      0.75            11.7530   \n",
       "\n",
       "   Wind Bearing (degrees)  Visibility (km)  Pressure (millibars)  \n",
       "0                   120.0           3.8318               1019.49  \n",
       "1                   145.0          10.3523               1018.68  \n",
       "2                   158.0           9.9820               1013.84  \n",
       "3                   121.0          15.1823               1015.03  \n",
       "4                   317.0           9.9820               1017.65  "
      ]
     },
     "execution_count": 23,
     "metadata": {},
     "output_type": "execute_result"
    }
   ],
   "source": [
    "X_train.head()"
   ]
  },
  {
   "cell_type": "markdown",
   "metadata": {},
   "source": [
    "10. Data transformation\n",
    "\n",
    "The Q-Q plots show the 'Temperature (C)' and 'Pressure (millibars)' lie on the red line that means a normal (or Gaussian) distribution appear in a straight line. \n",
    "The ''Wind Speed (km/h)' is right skewed according to the view of the histogram. The 'Humidity' is also left skewed.\n",
    "Therefore, to reduce the skewness and come to normal distribution form, the 'Wind Speed (km/h)' need to log transformation and the 'Humidity' need to exponent transformation."
   ]
  },
  {
   "cell_type": "code",
   "execution_count": 24,
   "metadata": {},
   "outputs": [
    {
     "data": {
      "image/png": "[encoded data removed]",
      "text/plain": [
       "<Figure size 432x288 with 1 Axes>"
      ]
     },
     "metadata": {
      "needs_background": "light"
     },
     "output_type": "display_data"
    },
    {
     "data": {
      "image/png": "[encoded data removed]",
      "text/plain": [
       "<Figure size 432x288 with 1 Axes>"
      ]
     },
     "metadata": {
      "needs_background": "light"
     },
     "output_type": "display_data"
    },
    {
     "data": {
      "image/png": "[encoded data removed]",
      "text/plain": [
       "<Figure size 432x288 with 1 Axes>"
      ]
     },
     "metadata": {
      "needs_background": "light"
     },
     "output_type": "display_data"
    },
    {
     "data": {
      "image/png": "[encoded data removed]",
      "text/plain": [
       "<Figure size 432x288 with 1 Axes>"
      ]
     },
     "metadata": {
      "needs_background": "light"
     },
     "output_type": "display_data"
    },
    {
     "data": {
      "image/png": "[encoded data removed]",
      "text/plain": [
       "<Figure size 432x288 with 1 Axes>"
      ]
     },
     "metadata": {
      "needs_background": "light"
     },
     "output_type": "display_data"
    },
    {
     "data": {
      "image/png": "[encoded data removed]",
      "text/plain": [
       "<Figure size 432x288 with 1 Axes>"
      ]
     },
     "metadata": {
      "needs_background": "light"
     },
     "output_type": "display_data"
    }
   ],
   "source": [
    "# create and show the plot.\n",
    "import scipy.stats as stats\n",
    "\n",
    "#Removing Categorical Features before the standardization\n",
    "columns_value = X.columns\n",
    "index1 = np.argwhere(columns_value == 'Precip Type')\n",
    "# index2 = np.argwhere(columns_value == 'Summary')\n",
    "columns_value_new = np.delete(columns_value, [index1])#,index2\n",
    "\n",
    "for col in columns_value_new :\n",
    "    stats.probplot(X_train[col], dist=\"norm\", plot=plt)\n",
    "    plt.title(col)\n",
    "    plt.show()"
   ]
  },
  {
   "cell_type": "code",
   "execution_count": 25,
   "metadata": {},
   "outputs": [
    {
     "data": {
      "text/plain": [
       "array([[<AxesSubplot:title={'center':'Precip Type'}>,\n",
       "        <AxesSubplot:title={'center':'Temperature (C)'}>,\n",
       "        <AxesSubplot:title={'center':'Humidity'}>,\n",
       "        <AxesSubplot:title={'center':'Wind Speed (km/h)'}>],\n",
       "       [<AxesSubplot:title={'center':'Wind Bearing (degrees)'}>,\n",
       "        <AxesSubplot:title={'center':'Visibility (km)'}>,\n",
       "        <AxesSubplot:title={'center':'Pressure (millibars)'}>,\n",
       "        <AxesSubplot:>],\n",
       "       [<AxesSubplot:>, <AxesSubplot:>, <AxesSubplot:>, <AxesSubplot:>]],\n",
       "      dtype=object)"
      ]
     },
     "execution_count": 25,
     "metadata": {},
     "output_type": "execute_result"
    },
    {
     "data": {
      "image/png": "[encoded data removed]",
      "text/plain": [
       "<Figure size 720x720 with 12 Axes>"
      ]
     },
     "metadata": {
      "needs_background": "light"
     },
     "output_type": "display_data"
    }
   ],
   "source": [
    "X_train.hist(layout=(3,4), figsize=(10,10))    \n",
    "# here summary and the precip type are categorical"
   ]
  },
  {
   "cell_type": "markdown",
   "metadata": {},
   "source": [
    "* to reduce the skewness and come to normal distribution form, the 'Wind Speed (km/h)' need to log transformation. Here I used log(x+1) to avoid 0 values, because log(0) goes to infinity. Here I am not going to drop the 0. If you remove the 0 related rows you need to drop same rows from the target dataset as well."
   ]
  },
  {
   "cell_type": "code",
   "execution_count": 26,
   "metadata": {},
   "outputs": [
    {
     "data": {
      "text/plain": [
       "array([[<AxesSubplot:title={'center':'Precip Type'}>,\n",
       "        <AxesSubplot:title={'center':'Temperature (C)'}>,\n",
       "        <AxesSubplot:title={'center':'Humidity'}>,\n",
       "        <AxesSubplot:title={'center':'Wind Speed (km/h)'}>],\n",
       "       [<AxesSubplot:title={'center':'Wind Bearing (degrees)'}>,\n",
       "        <AxesSubplot:title={'center':'Visibility (km)'}>,\n",
       "        <AxesSubplot:title={'center':'Pressure (millibars)'}>,\n",
       "        <AxesSubplot:>],\n",
       "       [<AxesSubplot:>, <AxesSubplot:>, <AxesSubplot:>, <AxesSubplot:>]],\n",
       "      dtype=object)"
      ]
     },
     "execution_count": 26,
     "metadata": {},
     "output_type": "execute_result"
    },
    {
     "data": {
      "image/png": "[encoded data removed]",
      "text/plain": [
       "<Figure size 720x720 with 12 Axes>"
      ]
     },
     "metadata": {
      "needs_background": "light"
     },
     "output_type": "display_data"
    }
   ],
   "source": [
    "#Do the logarithm trasnformations for required features\n",
    "from sklearn.preprocessing import FunctionTransformer\n",
    "logarithm_transformer = FunctionTransformer(np.log1p, validate=True)\n",
    "\n",
    "# apply the transformation to your data\n",
    "columns = ['Wind Speed (km/h)']\n",
    "data_new = logarithm_transformer.transform(X_train[columns])\n",
    "X_train['Wind Speed (km/h)'] = data_new[:, 0]\n",
    "\n",
    "X_train.hist(layout=(3,4), figsize=(10,10))   "
   ]
  },
  {
   "cell_type": "markdown",
   "metadata": {},
   "source": [
    "* to reduce the skewnes and come to noramal distribution form, the 'Humidity' need to exponent transformation."
   ]
  },
  {
   "cell_type": "code",
   "execution_count": 27,
   "metadata": {},
   "outputs": [],
   "source": [
    "# Do the trasnformations for required features\n",
    "\n",
    "columns = ['Humidity']\n",
    "exp_transformer = FunctionTransformer(np.exp, validate=True) # FunctionTransformer(lambda x:x**3, validate=True) #\n",
    "data_new = exp_transformer.transform(X_train[columns])\n",
    "df_new = pd.DataFrame(data_new, columns=columns)\n",
    "X_train['Humidity'] = data_new[:, 0]"
   ]
  },
  {
   "cell_type": "code",
   "execution_count": 28,
   "metadata": {},
   "outputs": [
    {
     "data": {
      "text/plain": [
       "array([[<AxesSubplot:title={'center':'Precip Type'}>,\n",
       "        <AxesSubplot:title={'center':'Temperature (C)'}>,\n",
       "        <AxesSubplot:title={'center':'Humidity'}>,\n",
       "        <AxesSubplot:title={'center':'Wind Speed (km/h)'}>],\n",
       "       [<AxesSubplot:title={'center':'Wind Bearing (degrees)'}>,\n",
       "        <AxesSubplot:title={'center':'Visibility (km)'}>,\n",
       "        <AxesSubplot:title={'center':'Pressure (millibars)'}>,\n",
       "        <AxesSubplot:>],\n",
       "       [<AxesSubplot:>, <AxesSubplot:>, <AxesSubplot:>, <AxesSubplot:>]],\n",
       "      dtype=object)"
      ]
     },
     "execution_count": 28,
     "metadata": {},
     "output_type": "execute_result"
    },
    {
     "data": {
      "image/png": "[encoded data removed]",
      "text/plain": [
       "<Figure size 720x720 with 12 Axes>"
      ]
     },
     "metadata": {
      "needs_background": "light"
     },
     "output_type": "display_data"
    }
   ],
   "source": [
    "X_train.hist(layout=(3,4), figsize=(10,10)) "
   ]
  },
  {
   "cell_type": "markdown",
   "metadata": {},
   "source": [
    "11. Feature Scaling\n",
    "\n",
    "Feature scaling Standardization methods enable the normalizing the range of values of independent variables. The standard standardization and s min max standardization methods can be identified as standardization methods.\n",
    "\n",
    "Here, I used the standard standardization method to Feature scaling. standardization sets 0 as mean (μ) and standard deviation (σ) as 1.\n",
    "\n",
    "It is important to removing categorical features before the standardization.\n"
   ]
  },
  {
   "cell_type": "code",
   "execution_count": 29,
   "metadata": {},
   "outputs": [],
   "source": [
    "from sklearn.preprocessing import StandardScaler\n",
    "\n",
    "#Removing Categorical Features before the standardization\n",
    "columns_value = X_train.columns\n",
    "\n",
    "index1 = np.argwhere(columns_value == 'Precip Type')\n",
    "# index2 = np.argwhere(columns_value == 'Summary')\n",
    "columns_value_new = np.delete(columns_value, [index1])#,index2\n",
    "\n",
    "#Applying Standardization \n",
    "#step 1 - Calling the standard scaler\n",
    "scaler = StandardScaler() \n",
    "\n",
    "#Transformation of other features\n",
    "X_Except = pd.DataFrame(X_train, columns=columns_value_new)\n",
    "scaler.fit(X_Except)\n",
    "X_Scaled = scaler.transform(X_Except)\n",
    "\n",
    "X_Scaled_Except = pd.DataFrame(X_Scaled, columns=columns_value_new)\n",
    "#Joining the Precip Type and Summary to the X again\n",
    "X_standard = X_Scaled_Except.join([X_train['Precip Type']])#X_train['Summary'], \n",
    "X_train = X_standard\n"
   ]
  },
  {
   "cell_type": "code",
   "execution_count": 30,
   "metadata": {},
   "outputs": [
    {
     "data": {
      "text/plain": [
       "array([[<AxesSubplot:title={'center':'Temperature (C)'}>,\n",
       "        <AxesSubplot:title={'center':'Humidity'}>,\n",
       "        <AxesSubplot:title={'center':'Wind Speed (km/h)'}>,\n",
       "        <AxesSubplot:title={'center':'Wind Bearing (degrees)'}>],\n",
       "       [<AxesSubplot:title={'center':'Visibility (km)'}>,\n",
       "        <AxesSubplot:title={'center':'Pressure (millibars)'}>,\n",
       "        <AxesSubplot:title={'center':'Precip Type'}>, <AxesSubplot:>],\n",
       "       [<AxesSubplot:>, <AxesSubplot:>, <AxesSubplot:>, <AxesSubplot:>]],\n",
       "      dtype=object)"
      ]
     },
     "execution_count": 30,
     "metadata": {},
     "output_type": "execute_result"
    },
    {
     "data": {
      "image/png": "[encoded data removed]",
      "text/plain": [
       "<Figure size 720x720 with 12 Axes>"
      ]
     },
     "metadata": {
      "needs_background": "light"
     },
     "output_type": "display_data"
    }
   ],
   "source": [
    "X_train.hist(layout=(3,4), figsize=(10,10)) "
   ]
  },
  {
   "cell_type": "markdown",
   "metadata": {},
   "source": [
    "* The features means are very close to the 0 and the std is close to the 1. "
   ]
  },
  {
   "cell_type": "code",
   "execution_count": 31,
   "metadata": {
    "scrolled": true
   },
   "outputs": [
    {
     "data": {
      "text/html": [
       "<div>\n",
       "<style scoped>\n",
       "    .dataframe tbody tr th:only-of-type {\n",
       "        vertical-align: middle;\n",
       "    }\n",
       "\n",
       "    .dataframe tbody tr th {\n",
       "        vertical-align: top;\n",
       "    }\n",
       "\n",
       "    .dataframe thead th {\n",
       "        text-align: right;\n",
       "    }\n",
       "</style>\n",
       "<table border=\"1\" class=\"dataframe\">\n",
       "  <thead>\n",
       "    <tr style=\"text-align: right;\">\n",
       "      <th></th>\n",
       "      <th>Temperature (C)</th>\n",
       "      <th>Humidity</th>\n",
       "      <th>Wind Speed (km/h)</th>\n",
       "      <th>Wind Bearing (degrees)</th>\n",
       "      <th>Visibility (km)</th>\n",
       "      <th>Pressure (millibars)</th>\n",
       "      <th>Precip Type</th>\n",
       "    </tr>\n",
       "  </thead>\n",
       "  <tbody>\n",
       "    <tr>\n",
       "      <th>count</th>\n",
       "      <td>7.566300e+04</td>\n",
       "      <td>7.566300e+04</td>\n",
       "      <td>7.566300e+04</td>\n",
       "      <td>7.566300e+04</td>\n",
       "      <td>7.566300e+04</td>\n",
       "      <td>7.566300e+04</td>\n",
       "      <td>75663.000000</td>\n",
       "    </tr>\n",
       "    <tr>\n",
       "      <th>mean</th>\n",
       "      <td>-1.359023e-16</td>\n",
       "      <td>2.683197e-16</td>\n",
       "      <td>5.284810e-16</td>\n",
       "      <td>-7.233038e-17</td>\n",
       "      <td>1.387342e-15</td>\n",
       "      <td>-6.628998e-15</td>\n",
       "      <td>0.110820</td>\n",
       "    </tr>\n",
       "    <tr>\n",
       "      <th>std</th>\n",
       "      <td>1.000007e+00</td>\n",
       "      <td>1.000007e+00</td>\n",
       "      <td>1.000007e+00</td>\n",
       "      <td>1.000007e+00</td>\n",
       "      <td>1.000007e+00</td>\n",
       "      <td>1.000007e+00</td>\n",
       "      <td>0.313912</td>\n",
       "    </tr>\n",
       "    <tr>\n",
       "      <th>min</th>\n",
       "      <td>-3.534945e+00</td>\n",
       "      <td>-2.439872e+00</td>\n",
       "      <td>-3.446466e+00</td>\n",
       "      <td>-1.745346e+00</td>\n",
       "      <td>-2.498942e+00</td>\n",
       "      <td>-5.363749e+00</td>\n",
       "      <td>0.000000</td>\n",
       "    </tr>\n",
       "    <tr>\n",
       "      <th>25%</th>\n",
       "      <td>-7.592812e-01</td>\n",
       "      <td>-7.793679e-01</td>\n",
       "      <td>-5.446093e-01</td>\n",
       "      <td>-6.647630e-01</td>\n",
       "      <td>-4.771255e-01</td>\n",
       "      <td>-6.018492e-01</td>\n",
       "      <td>0.000000</td>\n",
       "    </tr>\n",
       "    <tr>\n",
       "      <th>50%</th>\n",
       "      <td>1.034793e-02</td>\n",
       "      <td>1.490342e-01</td>\n",
       "      <td>1.687565e-01</td>\n",
       "      <td>-6.857905e-02</td>\n",
       "      <td>-8.667915e-02</td>\n",
       "      <td>-3.443564e-02</td>\n",
       "      <td>0.000000</td>\n",
       "    </tr>\n",
       "    <tr>\n",
       "      <th>75%</th>\n",
       "      <td>7.218480e-01</td>\n",
       "      <td>8.043667e-01</td>\n",
       "      <td>6.596187e-01</td>\n",
       "      <td>9.561121e-01</td>\n",
       "      <td>1.080794e+00</td>\n",
       "      <td>5.561377e-01</td>\n",
       "      <td>0.000000</td>\n",
       "    </tr>\n",
       "    <tr>\n",
       "      <th>max</th>\n",
       "      <td>2.827284e+00</td>\n",
       "      <td>1.535900e+00</td>\n",
       "      <td>2.863474e+00</td>\n",
       "      <td>1.598873e+00</td>\n",
       "      <td>1.366864e+00</td>\n",
       "      <td>3.763761e+00</td>\n",
       "      <td>1.000000</td>\n",
       "    </tr>\n",
       "  </tbody>\n",
       "</table>\n",
       "</div>"
      ],
      "text/plain": [
       "       Temperature (C)      Humidity  Wind Speed (km/h)  \\\n",
       "count     7.566300e+04  7.566300e+04       7.566300e+04   \n",
       "mean     -1.359023e-16  2.683197e-16       5.284810e-16   \n",
       "std       1.000007e+00  1.000007e+00       1.000007e+00   \n",
       "min      -3.534945e+00 -2.439872e+00      -3.446466e+00   \n",
       "25%      -7.592812e-01 -7.793679e-01      -5.446093e-01   \n",
       "50%       1.034793e-02  1.490342e-01       1.687565e-01   \n",
       "75%       7.218480e-01  8.043667e-01       6.596187e-01   \n",
       "max       2.827284e+00  1.535900e+00       2.863474e+00   \n",
       "\n",
       "       Wind Bearing (degrees)  Visibility (km)  Pressure (millibars)  \\\n",
       "count            7.566300e+04     7.566300e+04          7.566300e+04   \n",
       "mean            -7.233038e-17     1.387342e-15         -6.628998e-15   \n",
       "std              1.000007e+00     1.000007e+00          1.000007e+00   \n",
       "min             -1.745346e+00    -2.498942e+00         -5.363749e+00   \n",
       "25%             -6.647630e-01    -4.771255e-01         -6.018492e-01   \n",
       "50%             -6.857905e-02    -8.667915e-02         -3.443564e-02   \n",
       "75%              9.561121e-01     1.080794e+00          5.561377e-01   \n",
       "max              1.598873e+00     1.366864e+00          3.763761e+00   \n",
       "\n",
       "        Precip Type  \n",
       "count  75663.000000  \n",
       "mean       0.110820  \n",
       "std        0.313912  \n",
       "min        0.000000  \n",
       "25%        0.000000  \n",
       "50%        0.000000  \n",
       "75%        0.000000  \n",
       "max        1.000000  "
      ]
     },
     "execution_count": 31,
     "metadata": {},
     "output_type": "execute_result"
    }
   ],
   "source": [
    "X_train.describe()"
   ]
  },
  {
   "cell_type": "markdown",
   "metadata": {},
   "source": [
    "12. Variable Discretization\n",
    "\n",
    "Variable Discretization transforms the continuous variables in to disrete variables. There are mainly 3 discretization approaches named Supervised, Unsupervised and Custom discretization.\n",
    "\n",
    "Here we use an unsupervised approach named k-means clustering to the continious variables then the each cluster is considered as a bin. Here I used 8 bins for each features.\n",
    "\n",
    "It is important to removing categorical features before the variable discretization.\n"
   ]
  },
  {
   "cell_type": "code",
   "execution_count": 32,
   "metadata": {},
   "outputs": [],
   "source": [
    "from sklearn.preprocessing import KBinsDiscretizer\n",
    "\n",
    "#Removing Categorical Features before the standardization\n",
    "columns_value = X_train.columns\n",
    "index1 = np.argwhere(columns_value == 'Precip Type')\n",
    "# index2 = np.argwhere(columns_value == 'Summary')\n",
    "columns_value_new = np.delete(columns_value, [index1])#, index2\n",
    "\n",
    "data = pd.DataFrame(X_train, columns=columns_value_new)\n",
    "\n",
    "# fit the scaler to the  data\n",
    "discretizer = KBinsDiscretizer(n_bins=8, encode='ordinal', strategy='kmeans') \n",
    "discretizer.fit(data)\n",
    "_discretize = discretizer.transform(data)\n",
    "x = pd.DataFrame(_discretize, columns=columns_value_new)\n",
    "X_train = x.join([ X_train['Precip Type']]) # X_train['Summary']\n"
   ]
  },
  {
   "cell_type": "code",
   "execution_count": 33,
   "metadata": {},
   "outputs": [
    {
     "data": {
      "text/plain": [
       "array([[<AxesSubplot:title={'center':'Temperature (C)'}>,\n",
       "        <AxesSubplot:title={'center':'Humidity'}>,\n",
       "        <AxesSubplot:title={'center':'Wind Speed (km/h)'}>,\n",
       "        <AxesSubplot:title={'center':'Wind Bearing (degrees)'}>],\n",
       "       [<AxesSubplot:title={'center':'Visibility (km)'}>,\n",
       "        <AxesSubplot:title={'center':'Pressure (millibars)'}>,\n",
       "        <AxesSubplot:title={'center':'Precip Type'}>, <AxesSubplot:>],\n",
       "       [<AxesSubplot:>, <AxesSubplot:>, <AxesSubplot:>, <AxesSubplot:>]],\n",
       "      dtype=object)"
      ]
     },
     "execution_count": 33,
     "metadata": {},
     "output_type": "execute_result"
    },
    {
     "data": {
      "image/png": "[encoded data removed]",
      "text/plain": [
       "<Figure size 720x720 with 12 Axes>"
      ]
     },
     "metadata": {
      "needs_background": "light"
     },
     "output_type": "display_data"
    }
   ],
   "source": [
    "X_train.hist(layout=(3,4), figsize=(10,10)) "
   ]
  },
  {
   "cell_type": "markdown",
   "metadata": {},
   "source": [
    "13. Add 10, 12, 11 steps to Y_train\n",
    "\n",
    "Here, we need add Data transformation, Feature Scaling and Variable Discretization to the our Y_train dataset also. "
   ]
  },
  {
   "cell_type": "code",
   "execution_count": 34,
   "metadata": {},
   "outputs": [
    {
     "data": {
      "image/png": "[encoded data removed]",
      "text/plain": [
       "<Figure size 432x288 with 1 Axes>"
      ]
     },
     "metadata": {
      "needs_background": "light"
     },
     "output_type": "display_data"
    }
   ],
   "source": [
    "stats.probplot(y_train['Apparent Temperature (C)'], dist=\"norm\", plot=plt)\n",
    "plt.title('Apparent Temperature (C)')\n",
    "plt.show()"
   ]
  },
  {
   "cell_type": "markdown",
   "metadata": {},
   "source": [
    "* the most of the shape lies on the normal (or Gaussian) distribution straight line."
   ]
  },
  {
   "cell_type": "code",
   "execution_count": 35,
   "metadata": {},
   "outputs": [],
   "source": [
    "# Applying Standardization \n",
    "\n",
    "scaler = StandardScaler() \n",
    "\n",
    "y_Except = pd.DataFrame(y_train, columns=columns_value_new)\n",
    "scaler.fit(y_train)\n",
    "y_Scaled = scaler.transform(y_train)\n",
    "\n",
    "y_standard = pd.DataFrame(y_Scaled, columns=y_train.columns)\n",
    "y_train= y_standard\n"
   ]
  },
  {
   "cell_type": "markdown",
   "metadata": {},
   "source": [
    "* the y_train data set scaling"
   ]
  },
  {
   "cell_type": "code",
   "execution_count": null,
   "metadata": {
    "scrolled": true
   },
   "outputs": [],
   "source": []
  },
  {
   "cell_type": "markdown",
   "metadata": {},
   "source": [
    "14. Feature Extraction\n",
    "\n",
    "Feature extraction is a process of dimensionality reduction that identifies important features of the data using the domain knowledge. It helps to only include relevant inputs to machine learning model. More features may lead to a decline in the accuracy, if they include irrelevant features creating the unrequired noise in model.  \n",
    " \n",
    "We identify significant and independent features by using correlation metrix and use PCA to feature reduction.\n"
   ]
  },
  {
   "cell_type": "markdown",
   "metadata": {},
   "source": [
    "###### 15. Correlation matrix\n",
    "\n",
    "Correlation matrix represents the correlations between pairs of variables. it lies bet ween -1 and +1. minus values say that there are negative correlation and positive values says that there are negative correlation.   \n",
    "\n",
    "r < 0.3 None or very weak\n",
    "0.3 < r <0.5 Weak\n",
    "0.5 < r < 0.7 Moderate\n",
    "r > 0.7 Strong\n",
    "\n",
    "According to the heatmap in the dataset we can conclude that\n",
    "\n",
    "* humidity and temperature (-0.60) -> moderately negative correlation\n",
    "* humidity and Apparent temperature (-0.59) -> moderately negative correlation\n",
    "* Visibility and Apparent temperature (0.38) -> weak positive correlation\n",
    "* Precip tye and Apparent temperature (-0.56) -> moderately negative correlation\n",
    "\n",
    "According to the our use case, the answer to the,\n",
    "\n",
    "1st question \"Is there a relationship between humidity and temperature?\" is\n",
    "\"YES\" \n",
    "    * humidity and temperature (-0.60) has moderately negative correlation\n",
    "    \n",
    "2nd question \"What about between humidity and apparent temperature?\"\n",
    "    * humidity and Apparent temperature (-0.59) has moderately negative correlation\n",
    "    \n",
    "2nd question \"Can you predict the apparent temperature given the humidity?\"\n",
    "    * Here we can not say directly predict apparent temperature by given humidity because the apparent temerature is depend on \n",
    "     Temperature, humidity, Precip type and as well as visibility\n",
    "     \n",
    "There are Temperature, humidity, Precip type direct pairly moderate relationship with the Apparent temperature. The visibility has weak relationship with the Apparent temperature."
   ]
  },
  {
   "cell_type": "code",
   "execution_count": 36,
   "metadata": {},
   "outputs": [],
   "source": [
    "df_for_feature_eng = X_train.copy()\n",
    "df_for_feature_eng.join(y_train['Apparent Temperature (C)'])\n",
    "df_for_feature_eng['Apparent Temperature (C)'] = y_train['Apparent Temperature (C)']"
   ]
  },
  {
   "cell_type": "code",
   "execution_count": 37,
   "metadata": {},
   "outputs": [
    {
     "data": {
      "text/plain": [
       "<Figure size 1152x432 with 0 Axes>"
      ]
     },
     "metadata": {},
     "output_type": "display_data"
    },
    {
     "data": {
      "image/png": "[encoded data removed]",
      "text/plain": [
       "<Figure size 1152x432 with 2 Axes>"
      ]
     },
     "metadata": {
      "needs_background": "light"
     },
     "output_type": "display_data"
    }
   ],
   "source": [
    "#correlation matrix\n",
    "\n",
    "plt.figure(figsize=(16, 6))\n",
    "# Store heatmap object in a variable to easily access it when you want to include more features (such as title).\n",
    "# Set the range of values to be displayed on the colormap from -1 to 1, and set the annotation to True to display the correlation values on the heatmap.\n",
    "plt.figure(figsize=(16, 6))\n",
    "heatmap = sns.heatmap(df_for_feature_eng.corr(), vmin=-1, vmax=1, annot=True)\n",
    "# Give a title to the heatmap. Pad defines the distance of the title from the top of the heatmap."
   ]
  },
  {
   "cell_type": "markdown",
   "metadata": {},
   "source": [
    "16. Principle Component Analysis (PCA)\n",
    "\n",
    "PCA is used commonly as Feature extraction technique to reduce the dimensions of the dataset.\n",
    "\n",
    "By using the attribute explained_variance_ratio_ the variaence first principal components contains upto 95% are taken to the model training. The training model takes 6 components contain 97.54% of the information.\n"
   ]
  },
  {
   "cell_type": "code",
   "execution_count": 38,
   "metadata": {},
   "outputs": [
    {
     "data": {
      "text/html": [
       "<div>\n",
       "<style scoped>\n",
       "    .dataframe tbody tr th:only-of-type {\n",
       "        vertical-align: middle;\n",
       "    }\n",
       "\n",
       "    .dataframe tbody tr th {\n",
       "        vertical-align: top;\n",
       "    }\n",
       "\n",
       "    .dataframe thead th {\n",
       "        text-align: right;\n",
       "    }\n",
       "</style>\n",
       "<table border=\"1\" class=\"dataframe\">\n",
       "  <thead>\n",
       "    <tr style=\"text-align: right;\">\n",
       "      <th></th>\n",
       "      <th>0</th>\n",
       "      <th>1</th>\n",
       "      <th>2</th>\n",
       "      <th>3</th>\n",
       "      <th>4</th>\n",
       "      <th>5</th>\n",
       "      <th>6</th>\n",
       "    </tr>\n",
       "  </thead>\n",
       "  <tbody>\n",
       "    <tr>\n",
       "      <th>0</th>\n",
       "      <td>4.125223</td>\n",
       "      <td>1.489704</td>\n",
       "      <td>1.428489</td>\n",
       "      <td>1.384611</td>\n",
       "      <td>0.211632</td>\n",
       "      <td>1.344316</td>\n",
       "      <td>0.463804</td>\n",
       "    </tr>\n",
       "    <tr>\n",
       "      <th>1</th>\n",
       "      <td>-3.818240</td>\n",
       "      <td>1.401229</td>\n",
       "      <td>1.670703</td>\n",
       "      <td>2.487761</td>\n",
       "      <td>0.125518</td>\n",
       "      <td>0.165665</td>\n",
       "      <td>-0.006659</td>\n",
       "    </tr>\n",
       "    <tr>\n",
       "      <th>2</th>\n",
       "      <td>-0.702481</td>\n",
       "      <td>0.416286</td>\n",
       "      <td>-1.194237</td>\n",
       "      <td>1.729317</td>\n",
       "      <td>2.179469</td>\n",
       "      <td>-0.982743</td>\n",
       "      <td>-0.042109</td>\n",
       "    </tr>\n",
       "    <tr>\n",
       "      <th>3</th>\n",
       "      <td>-0.880266</td>\n",
       "      <td>1.710211</td>\n",
       "      <td>-1.314178</td>\n",
       "      <td>-1.641228</td>\n",
       "      <td>-0.901048</td>\n",
       "      <td>-0.338235</td>\n",
       "      <td>0.077143</td>\n",
       "    </tr>\n",
       "    <tr>\n",
       "      <th>4</th>\n",
       "      <td>-0.014631</td>\n",
       "      <td>-3.216684</td>\n",
       "      <td>0.975458</td>\n",
       "      <td>0.159061</td>\n",
       "      <td>0.305362</td>\n",
       "      <td>0.631528</td>\n",
       "      <td>-0.234378</td>\n",
       "    </tr>\n",
       "    <tr>\n",
       "      <th>5</th>\n",
       "      <td>-4.948243</td>\n",
       "      <td>-2.528668</td>\n",
       "      <td>2.007811</td>\n",
       "      <td>2.973028</td>\n",
       "      <td>0.074638</td>\n",
       "      <td>-0.786541</td>\n",
       "      <td>0.136833</td>\n",
       "    </tr>\n",
       "    <tr>\n",
       "      <th>6</th>\n",
       "      <td>4.218447</td>\n",
       "      <td>-2.185904</td>\n",
       "      <td>3.456031</td>\n",
       "      <td>1.249467</td>\n",
       "      <td>-2.069974</td>\n",
       "      <td>-0.793381</td>\n",
       "      <td>-0.295501</td>\n",
       "    </tr>\n",
       "    <tr>\n",
       "      <th>7</th>\n",
       "      <td>0.503150</td>\n",
       "      <td>-0.391242</td>\n",
       "      <td>0.562006</td>\n",
       "      <td>-0.801774</td>\n",
       "      <td>1.587045</td>\n",
       "      <td>-0.784833</td>\n",
       "      <td>-0.157906</td>\n",
       "    </tr>\n",
       "    <tr>\n",
       "      <th>8</th>\n",
       "      <td>0.847816</td>\n",
       "      <td>3.599900</td>\n",
       "      <td>0.455424</td>\n",
       "      <td>-0.534905</td>\n",
       "      <td>2.508726</td>\n",
       "      <td>0.211887</td>\n",
       "      <td>-0.320569</td>\n",
       "    </tr>\n",
       "    <tr>\n",
       "      <th>9</th>\n",
       "      <td>-0.749253</td>\n",
       "      <td>-1.196528</td>\n",
       "      <td>1.015385</td>\n",
       "      <td>-1.255486</td>\n",
       "      <td>1.907495</td>\n",
       "      <td>-0.266655</td>\n",
       "      <td>-0.177828</td>\n",
       "    </tr>\n",
       "  </tbody>\n",
       "</table>\n",
       "</div>"
      ],
      "text/plain": [
       "          0         1         2         3         4         5         6\n",
       "0  4.125223  1.489704  1.428489  1.384611  0.211632  1.344316  0.463804\n",
       "1 -3.818240  1.401229  1.670703  2.487761  0.125518  0.165665 -0.006659\n",
       "2 -0.702481  0.416286 -1.194237  1.729317  2.179469 -0.982743 -0.042109\n",
       "3 -0.880266  1.710211 -1.314178 -1.641228 -0.901048 -0.338235  0.077143\n",
       "4 -0.014631 -3.216684  0.975458  0.159061  0.305362  0.631528 -0.234378\n",
       "5 -4.948243 -2.528668  2.007811  2.973028  0.074638 -0.786541  0.136833\n",
       "6  4.218447 -2.185904  3.456031  1.249467 -2.069974 -0.793381 -0.295501\n",
       "7  0.503150 -0.391242  0.562006 -0.801774  1.587045 -0.784833 -0.157906\n",
       "8  0.847816  3.599900  0.455424 -0.534905  2.508726  0.211887 -0.320569\n",
       "9 -0.749253 -1.196528  1.015385 -1.255486  1.907495 -0.266655 -0.177828"
      ]
     },
     "execution_count": 38,
     "metadata": {},
     "output_type": "execute_result"
    }
   ],
   "source": [
    "from sklearn.decomposition import PCA\n",
    "\n",
    "pca = PCA()\n",
    "X_pca = pca.fit_transform(X_train) \n",
    "\n",
    "principalDf = pd.DataFrame(data = X_pca)\n",
    "principalDf.head(10)"
   ]
  },
  {
   "cell_type": "code",
   "execution_count": 39,
   "metadata": {},
   "outputs": [
    {
     "data": {
      "text/plain": [
       "array([0.35201537, 0.24660022, 0.13341961, 0.12080237, 0.10165006,\n",
       "       0.04283339, 0.00267898])"
      ]
     },
     "execution_count": 39,
     "metadata": {},
     "output_type": "execute_result"
    }
   ],
   "source": [
    "pca.explained_variance_ratio_"
   ]
  },
  {
   "cell_type": "code",
   "execution_count": 40,
   "metadata": {},
   "outputs": [],
   "source": [
    "arr = pca.explained_variance_ratio_"
   ]
  },
  {
   "cell_type": "code",
   "execution_count": 41,
   "metadata": {},
   "outputs": [
    {
     "name": "stdout",
     "output_type": "stream",
     "text": [
      "sum  5 0.9544876331431522\n"
     ]
    }
   ],
   "source": [
    "sum = 0\n",
    "length = len(pca.explained_variance_ratio_)\n",
    "for i in range(length):\n",
    "    if sum>0.95:\n",
    "        break\n",
    "    else:\n",
    "        sum+=arr[i]\n",
    "n_com=i\n",
    "print('sum ', n_com, sum)"
   ]
  },
  {
   "cell_type": "markdown",
   "metadata": {},
   "source": [
    "17. Train Model\n",
    "\n",
    "The next step is implemented a model with our prepared data set. Here, I use the linear regression to implement the model for our problem domain that predict the Apparent temperature.\n",
    "\n",
    "The linear Regression techniques used to implement a linear relationship between the independent/s(X) and the dependent(Y) variables. It predicts the dependent variable based on independent variable.\n"
   ]
  },
  {
   "cell_type": "code",
   "execution_count": 42,
   "metadata": {
    "scrolled": true
   },
   "outputs": [],
   "source": [
    "pca = PCA(n_components=n_com)\n",
    "X_transformed = pca.fit_transform(X_train)\n",
    "X = X_transformed"
   ]
  },
  {
   "cell_type": "code",
   "execution_count": 43,
   "metadata": {},
   "outputs": [],
   "source": [
    "#Implementing Linear Regression\n",
    "\n",
    "from sklearn import linear_model\n",
    "\n",
    "lm = linear_model.LinearRegression()\n",
    "model = lm.fit(X, y_train)"
   ]
  },
  {
   "cell_type": "markdown",
   "metadata": {},
   "source": [
    "18. Preprocess the testing data set\n",
    "\n",
    "Here after the training dataset, we need messure the accuracy of the dataset. So, now we need to deal with the training dataset. So, here first so the transformation, Feature scaling and the data discretizations to the training dataset.\n"
   ]
  },
  {
   "cell_type": "markdown",
   "metadata": {},
   "source": [
    "* the trasnformations need to the humidity and the wind speed"
   ]
  },
  {
   "cell_type": "code",
   "execution_count": 44,
   "metadata": {},
   "outputs": [
    {
     "data": {
      "text/plain": [
       "array([[<AxesSubplot:title={'center':'Precip Type'}>,\n",
       "        <AxesSubplot:title={'center':'Temperature (C)'}>,\n",
       "        <AxesSubplot:title={'center':'Humidity'}>,\n",
       "        <AxesSubplot:title={'center':'Wind Speed (km/h)'}>],\n",
       "       [<AxesSubplot:title={'center':'Wind Bearing (degrees)'}>,\n",
       "        <AxesSubplot:title={'center':'Visibility (km)'}>,\n",
       "        <AxesSubplot:title={'center':'Pressure (millibars)'}>,\n",
       "        <AxesSubplot:>],\n",
       "       [<AxesSubplot:>, <AxesSubplot:>, <AxesSubplot:>, <AxesSubplot:>]],\n",
       "      dtype=object)"
      ]
     },
     "execution_count": 44,
     "metadata": {},
     "output_type": "execute_result"
    },
    {
     "data": {
      "image/png": "[encoded data removed]",
      "text/plain": [
       "<Figure size 720x720 with 12 Axes>"
      ]
     },
     "metadata": {
      "needs_background": "light"
     },
     "output_type": "display_data"
    }
   ],
   "source": [
    "X_test.hist(layout=(3,4), figsize=(10,10))  "
   ]
  },
  {
   "cell_type": "code",
   "execution_count": 45,
   "metadata": {},
   "outputs": [
    {
     "data": {
      "text/html": [
       "<div>\n",
       "<style scoped>\n",
       "    .dataframe tbody tr th:only-of-type {\n",
       "        vertical-align: middle;\n",
       "    }\n",
       "\n",
       "    .dataframe tbody tr th {\n",
       "        vertical-align: top;\n",
       "    }\n",
       "\n",
       "    .dataframe thead th {\n",
       "        text-align: right;\n",
       "    }\n",
       "</style>\n",
       "<table border=\"1\" class=\"dataframe\">\n",
       "  <thead>\n",
       "    <tr style=\"text-align: right;\">\n",
       "      <th></th>\n",
       "      <th>Temperature (C)</th>\n",
       "      <th>Humidity</th>\n",
       "      <th>Wind Speed (km/h)</th>\n",
       "      <th>Wind Bearing (degrees)</th>\n",
       "      <th>Visibility (km)</th>\n",
       "      <th>Pressure (millibars)</th>\n",
       "      <th>Precip Type</th>\n",
       "    </tr>\n",
       "  </thead>\n",
       "  <tbody>\n",
       "    <tr>\n",
       "      <th>0</th>\n",
       "      <td>6.0</td>\n",
       "      <td>1.0</td>\n",
       "      <td>5.0</td>\n",
       "      <td>3.0</td>\n",
       "      <td>4.0</td>\n",
       "      <td>3.0</td>\n",
       "      <td>0</td>\n",
       "    </tr>\n",
       "    <tr>\n",
       "      <th>1</th>\n",
       "      <td>4.0</td>\n",
       "      <td>3.0</td>\n",
       "      <td>6.0</td>\n",
       "      <td>1.0</td>\n",
       "      <td>4.0</td>\n",
       "      <td>4.0</td>\n",
       "      <td>0</td>\n",
       "    </tr>\n",
       "    <tr>\n",
       "      <th>2</th>\n",
       "      <td>6.0</td>\n",
       "      <td>2.0</td>\n",
       "      <td>2.0</td>\n",
       "      <td>0.0</td>\n",
       "      <td>7.0</td>\n",
       "      <td>4.0</td>\n",
       "      <td>0</td>\n",
       "    </tr>\n",
       "    <tr>\n",
       "      <th>3</th>\n",
       "      <td>2.0</td>\n",
       "      <td>6.0</td>\n",
       "      <td>3.0</td>\n",
       "      <td>1.0</td>\n",
       "      <td>2.0</td>\n",
       "      <td>5.0</td>\n",
       "      <td>1</td>\n",
       "    </tr>\n",
       "    <tr>\n",
       "      <th>4</th>\n",
       "      <td>2.0</td>\n",
       "      <td>6.0</td>\n",
       "      <td>5.0</td>\n",
       "      <td>4.0</td>\n",
       "      <td>3.0</td>\n",
       "      <td>6.0</td>\n",
       "      <td>0</td>\n",
       "    </tr>\n",
       "  </tbody>\n",
       "</table>\n",
       "</div>"
      ],
      "text/plain": [
       "   Temperature (C)  Humidity  Wind Speed (km/h)  Wind Bearing (degrees)  \\\n",
       "0              6.0       1.0                5.0                     3.0   \n",
       "1              4.0       3.0                6.0                     1.0   \n",
       "2              6.0       2.0                2.0                     0.0   \n",
       "3              2.0       6.0                3.0                     1.0   \n",
       "4              2.0       6.0                5.0                     4.0   \n",
       "\n",
       "   Visibility (km)  Pressure (millibars)  Precip Type  \n",
       "0              4.0                   3.0            0  \n",
       "1              4.0                   4.0            0  \n",
       "2              7.0                   4.0            0  \n",
       "3              2.0                   5.0            1  \n",
       "4              3.0                   6.0            0  "
      ]
     },
     "execution_count": 45,
     "metadata": {},
     "output_type": "execute_result"
    }
   ],
   "source": [
    "#Do the  trasnformations for required features\n",
    "\n",
    "from sklearn.preprocessing import FunctionTransformer\n",
    "logarithm_transformer = FunctionTransformer(np.log1p, validate=True)\n",
    "\n",
    "# apply the transformation to your data\n",
    "columns = ['Wind Speed (km/h)']\n",
    "data_new = logarithm_transformer.transform(X_test[columns])\n",
    "X_test['Wind Speed (km/h)'] = data_new[:, 0]\n",
    "\n",
    "\n",
    "columns = ['Humidity']\n",
    "exp_transformer = FunctionTransformer(np.exp, validate=True) #FunctionTransformer(lambda x:x**3, validate=True)\n",
    "data_new = exp_transformer.transform(X_test[columns])\n",
    "df_new = pd.DataFrame(data_new, columns=columns)\n",
    "X_test['Humidity'] = data_new[:, 0]\n",
    "\n",
    "from sklearn.preprocessing import StandardScaler\n",
    "\n",
    "#Removing Categorical Features before the standardization\n",
    "columns_value = X_test.columns\n",
    "index1 = np.argwhere(columns_value == 'Precip Type')\n",
    "# index2 = np.argwhere(columns_value == 'Summary')\n",
    "columns_value_new = np.delete(columns_value, [index1])#,index2\n",
    "\n",
    "# Applying Standardization \n",
    "\n",
    "scaler = StandardScaler() \n",
    "\n",
    "# # for y_train\n",
    "X_Except = pd.DataFrame(X_test, columns=columns_value_new)\n",
    "scaler.fit(X_Except)\n",
    "X_Scaled = scaler.transform(X_Except)\n",
    "\n",
    "X_Scaled_Except = pd.DataFrame(X_Scaled, columns=columns_value_new)\n",
    "#Joining the Precip Type to the X again\n",
    "X_standard = X_Scaled_Except.join([ X_test['Precip Type']]) #X_test['Summary'],\n",
    "X_test = X_standard\n",
    "\n",
    "# for y_test\n",
    "y_Except = pd.DataFrame(y_test, columns=columns_value_new)\n",
    "scaler.fit(y_test)\n",
    "y_Scaled = scaler.transform(y_test)\n",
    "\n",
    "y_standard = pd.DataFrame(y_Scaled, columns=y_test.columns)\n",
    "y_test= y_standard\n",
    "\n",
    "########################\n",
    "\n",
    "# Applying Data Discretization \n",
    "\n",
    "from sklearn.preprocessing import KBinsDiscretizer\n",
    "\n",
    "columns_value = X_test.columns\n",
    "index1 = np.argwhere(columns_value == 'Precip Type')\n",
    "# index2 = np.argwhere(columns_value == 'Summary')\n",
    "columns_value_new = np.delete(columns_value, [index1])#,index2\n",
    "\n",
    "data = pd.DataFrame(X_test, columns=columns_value_new)\n",
    "\n",
    "# fit the scaler to the  data\n",
    "discretizer = KBinsDiscretizer(n_bins=8, encode='ordinal', strategy='kmeans') \n",
    "discretizer.fit(data)\n",
    "_discretize = discretizer.transform(data)\n",
    "x = pd.DataFrame(_discretize, columns=columns_value_new)\n",
    "X_test = x.join([X_test['Precip Type']])#X_test['Summary'], \n",
    "X_test.head()\n",
    "\n",
    "\n"
   ]
  },
  {
   "cell_type": "markdown",
   "metadata": {},
   "source": [
    "19. Testing\n",
    "The purpose of the testing the model is to measure the accuracy and efficiency of the model. According to the accuracy level we need to improve our model also.\n",
    "\n",
    "The following steps are available the code to prediction and the measure the accuracy.\n"
   ]
  },
  {
   "cell_type": "code",
   "execution_count": 46,
   "metadata": {},
   "outputs": [],
   "source": [
    "X_pca_test = PCA(n_components=n_com)\n",
    "X_transformed_test = pca.fit_transform(X_test)\n",
    "X_test = X_transformed_test"
   ]
  },
  {
   "cell_type": "code",
   "execution_count": 47,
   "metadata": {},
   "outputs": [
    {
     "name": "stdout",
     "output_type": "stream",
     "text": [
      "   predicted\n",
      "0   1.152625\n",
      "1  -0.209384\n",
      "2   1.493243\n",
      "3  -0.982407\n",
      "4  -1.405345\n",
      "5   0.314785\n",
      "6   1.089812\n",
      "7   0.121080\n",
      "8  -0.314251\n",
      "9  -0.856527\n"
     ]
    }
   ],
   "source": [
    "# prediction\n",
    "predictions = model.predict(X_test)\n",
    "y_hat = pd.DataFrame(predictions, columns=[\"predicted\"])\n",
    "print(y_hat.head(10)) "
   ]
  },
  {
   "cell_type": "code",
   "execution_count": 48,
   "metadata": {
    "scrolled": true
   },
   "outputs": [
    {
     "data": {
      "text/html": [
       "<div>\n",
       "<style scoped>\n",
       "    .dataframe tbody tr th:only-of-type {\n",
       "        vertical-align: middle;\n",
       "    }\n",
       "\n",
       "    .dataframe tbody tr th {\n",
       "        vertical-align: top;\n",
       "    }\n",
       "\n",
       "    .dataframe thead th {\n",
       "        text-align: right;\n",
       "    }\n",
       "</style>\n",
       "<table border=\"1\" class=\"dataframe\">\n",
       "  <thead>\n",
       "    <tr style=\"text-align: right;\">\n",
       "      <th></th>\n",
       "      <th>Apparent Temperature (C)</th>\n",
       "    </tr>\n",
       "  </thead>\n",
       "  <tbody>\n",
       "    <tr>\n",
       "      <th>0</th>\n",
       "      <td>1.315782</td>\n",
       "    </tr>\n",
       "    <tr>\n",
       "      <th>1</th>\n",
       "      <td>0.381913</td>\n",
       "    </tr>\n",
       "    <tr>\n",
       "      <th>2</th>\n",
       "      <td>0.979257</td>\n",
       "    </tr>\n",
       "    <tr>\n",
       "      <th>3</th>\n",
       "      <td>-1.221895</td>\n",
       "    </tr>\n",
       "    <tr>\n",
       "      <th>4</th>\n",
       "      <td>-1.091225</td>\n",
       "    </tr>\n",
       "    <tr>\n",
       "      <th>5</th>\n",
       "      <td>0.206132</td>\n",
       "    </tr>\n",
       "    <tr>\n",
       "      <th>6</th>\n",
       "      <td>1.051333</td>\n",
       "    </tr>\n",
       "    <tr>\n",
       "      <th>7</th>\n",
       "      <td>0.226354</td>\n",
       "    </tr>\n",
       "    <tr>\n",
       "      <th>8</th>\n",
       "      <td>0.162057</td>\n",
       "    </tr>\n",
       "    <tr>\n",
       "      <th>9</th>\n",
       "      <td>0.280281</td>\n",
       "    </tr>\n",
       "  </tbody>\n",
       "</table>\n",
       "</div>"
      ],
      "text/plain": [
       "   Apparent Temperature (C)\n",
       "0                  1.315782\n",
       "1                  0.381913\n",
       "2                  0.979257\n",
       "3                 -1.221895\n",
       "4                 -1.091225\n",
       "5                  0.206132\n",
       "6                  1.051333\n",
       "7                  0.226354\n",
       "8                  0.162057\n",
       "9                  0.280281"
      ]
     },
     "execution_count": 48,
     "metadata": {},
     "output_type": "execute_result"
    }
   ],
   "source": [
    "y_test.head(10)"
   ]
  },
  {
   "cell_type": "markdown",
   "metadata": {},
   "source": [
    "20. Evaluate the model\n",
    "\n",
    "to the evaluate the linear regression model we can use Mean squad error (MSE), Root mean squad error (RMSE) and Mean absolute error (MAE).\n"
   ]
  },
  {
   "cell_type": "code",
   "execution_count": 49,
   "metadata": {},
   "outputs": [
    {
     "name": "stdout",
     "output_type": "stream",
     "text": [
      "Mean squard error (MSE) =  0.1338079355234194\n"
     ]
    }
   ],
   "source": [
    "# Calcualting MSE of y_hat and y\n",
    "\n",
    "from sklearn.metrics import mean_squared_error\n",
    "mse = mean_squared_error(y_test, y_hat)\n",
    "print('Mean squard error (MSE) = ', mse)"
   ]
  },
  {
   "cell_type": "code",
   "execution_count": 50,
   "metadata": {},
   "outputs": [
    {
     "name": "stdout",
     "output_type": "stream",
     "text": [
      "Root mean suqard error (RMSE) =  0.3657976701995509\n"
     ]
    }
   ],
   "source": [
    "#Root Mean Sqaured Error\n",
    "\n",
    "from math import sqrt\n",
    "rmsq = sqrt(mean_squared_error(y_test, y_hat))\n",
    "print('Root mean suqard error (RMSE) = ', rmsq)"
   ]
  },
  {
   "cell_type": "code",
   "execution_count": 51,
   "metadata": {},
   "outputs": [
    {
     "name": "stdout",
     "output_type": "stream",
     "text": [
      "score 0.8661920644765806\n"
     ]
    }
   ],
   "source": [
    "#Percentage of explained variance of the predictions\n",
    "print('score', model.score(X_test, y_test))"
   ]
  },
  {
   "cell_type": "code",
   "execution_count": 52,
   "metadata": {},
   "outputs": [
    {
     "name": "stdout",
     "output_type": "stream",
     "text": [
      "[-1.06144854e-16]\n"
     ]
    }
   ],
   "source": [
    "# Intercept of the model\n",
    "print(model.intercept_)"
   ]
  },
  {
   "cell_type": "code",
   "execution_count": 53,
   "metadata": {},
   "outputs": [
    {
     "name": "stdout",
     "output_type": "stream",
     "text": [
      "W parameters of the model [[-0.283544    0.03990891 -0.02684158  0.06844647 -0.33305591]]\n"
     ]
    }
   ],
   "source": [
    "# W parameters of the model\n",
    "print('W parameters of the model', model.coef_)"
   ]
  },
  {
   "cell_type": "markdown",
   "metadata": {},
   "source": [
    " "
   ]
  },
  {
   "cell_type": "code",
   "execution_count": 54,
   "metadata": {},
   "outputs": [
    {
     "data": {
      "image/png": "[encoded data removed]",
      "text/plain": [
       "<Figure size 720x720 with 1 Axes>"
      ]
     },
     "metadata": {
      "needs_background": "light"
     },
     "output_type": "display_data"
    }
   ],
   "source": [
    "import matplotlib.pyplot as plt\n",
    "plt.figure(figsize=(10,10))\n",
    "plt.plot(y_hat[:50], label = \"Pred\")\n",
    "plt.plot(y_test[:50], label = \"Actual\")\n",
    "plt.xlabel('x - axis')\n",
    "# Set the y axis label of the current axis.\n",
    "plt.ylabel('y - axis')\n",
    "# Set a title of the current axes.\n",
    "plt.title('Predicitons vs Actual')\n",
    "# show a legend on the plot\n",
    "plt.legend()\n",
    "# Display a figure.\n",
    "plt.show()"
   ]
  },
  {
   "cell_type": "code",
   "execution_count": null,
   "metadata": {},
   "outputs": [],
   "source": []
  },
  {
   "cell_type": "code",
   "execution_count": null,
   "metadata": {},
   "outputs": [],
   "source": []
  }
 ],
 "metadata": {
  "kernelspec": {
   "display_name": "Python 3",
   "language": "python",
   "name": "python3"
  },
  "language_info": {
   "codemirror_mode": {
    "name": "ipython",
    "version": 3
   },
   "file_extension": ".py",
   "mimetype": "text/x-python",
   "name": "python",
   "nbconvert_exporter": "python",
   "pygments_lexer": "ipython3",
   "version": "3.8.5"
  }
 },
 "nbformat": 4,
 "nbformat_minor": 4
}
